{
 "cells": [
  {
   "cell_type": "markdown",
   "metadata": {},
   "source": [
    "<table  align=\"left\" width=\"100%\"> <tr>\n",
    "        <td  style=\"background-color:#ffffff;\"><a href=\"https://qsoftware.lu.lv/index.php/qworld/\" target=\"_blank\"><img src=\"../images/qworld.jpg\" width=\"35%\" align=\"left\"></a></td>\n",
    "        <td  align=\"right\" style=\"background-color:#ffffff;vertical-align:bottom;horizontal-align:right\">\n",
    "            prepared by Özlem Salehi (<a href=\"http://qworld.lu.lv/index.php/qturkey/\" target=\"_blank\">QTurkey</a>)\n",
    "        </td>        \n",
    "</tr></table>"
   ]
  },
  {
   "cell_type": "markdown",
   "metadata": {},
   "source": [
    "<table width=\"100%\"><tr><td style=\"color:#bbbbbb;background-color:#ffffff;font-size:11px;font-style:italic;text-align:right;\">This cell contains some macros. If there is a problem with displaying mathematical formulas, please run this cell to load these macros. </td></tr></table>\n",
    "$\\newcommand{\\Mod}[1]{\\ (\\mathrm{mod}\\ #1)}$\n",
    "$ \\newcommand{\\bra}[1]{\\langle #1|} $\n",
    "$ \\newcommand{\\ket}[1]{|#1\\rangle} $\n",
    "$ \\newcommand{\\braket}[2]{\\langle #1|#2\\rangle} $\n",
    "$ \\newcommand{\\dot}[2]{ #1 \\cdot #2} $\n",
    "$ \\newcommand{\\biginner}[2]{\\left\\langle #1,#2\\right\\rangle} $\n",
    "$ \\newcommand{\\mymatrix}[2]{\\left( \\begin{array}{#1} #2\\end{array} \\right)} $\n",
    "$ \\newcommand{\\myvector}[1]{\\mymatrix{c}{#1}} $\n",
    "$ \\newcommand{\\myrvector}[1]{\\mymatrix{r}{#1}} $\n",
    "$ \\newcommand{\\mypar}[1]{\\left( #1 \\right)} $\n",
    "$ \\newcommand{\\mybigpar}[1]{ \\Big( #1 \\Big)} $\n",
    "$ \\newcommand{\\sqrttwo}{\\frac{1}{\\sqrt{2}}} $\n",
    "$ \\newcommand{\\dsqrttwo}{\\dfrac{1}{\\sqrt{2}}} $\n",
    "$ \\newcommand{\\onehalf}{\\frac{1}{2}} $\n",
    "$ \\newcommand{\\donehalf}{\\dfrac{1}{2}} $\n",
    "$ \\newcommand{\\hadamard}{ \\mymatrix{rr}{ \\sqrttwo & \\sqrttwo \\\\ \\sqrttwo & -\\sqrttwo }} $\n",
    "$ \\newcommand{\\vzero}{\\myvector{1\\\\0}} $\n",
    "$ \\newcommand{\\vone}{\\myvector{0\\\\1}} $\n",
    "$ \\newcommand{\\stateplus}{\\myvector{ \\sqrttwo \\\\  \\sqrttwo } } $\n",
    "$ \\newcommand{\\stateminus}{ \\myrvector{ \\sqrttwo \\\\ -\\sqrttwo } } $\n",
    "$ \\newcommand{\\myarray}[2]{ \\begin{array}{#1}#2\\end{array}} $\n",
    "$ \\newcommand{\\X}{ \\mymatrix{cc}{0 & 1 \\\\ 1 & 0}  } $\n",
    "$ \\newcommand{\\Z}{ \\mymatrix{rr}{1 & 0 \\\\ 0 & -1}  } $\n",
    "$ \\newcommand{\\Htwo}{ \\mymatrix{rrrr}{ \\frac{1}{2} & \\frac{1}{2} & \\frac{1}{2} & \\frac{1}{2} \\\\ \\frac{1}{2} & -\\frac{1}{2} & \\frac{1}{2} & -\\frac{1}{2} \\\\ \\frac{1}{2} & \\frac{1}{2} & -\\frac{1}{2} & -\\frac{1}{2} \\\\ \\frac{1}{2} & -\\frac{1}{2} & -\\frac{1}{2} & \\frac{1}{2} } } $\n",
    "$ \\newcommand{\\CNOT}{ \\mymatrix{cccc}{1 & 0 & 0 & 0 \\\\ 0 & 1 & 0 & 0 \\\\ 0 & 0 & 0 & 1 \\\\ 0 & 0 & 1 & 0} } $\n",
    "$ \\newcommand{\\norm}[1]{ \\left\\lVert #1 \\right\\rVert } $\n",
    "$ \\newcommand{\\pstate}[1]{ \\lceil \\mspace{-1mu} #1 \\mspace{-1.5mu} \\rfloor } $"
   ]
  },
  {
   "cell_type": "markdown",
   "metadata": {},
   "source": [
    "# Cirq installation and test\n"
   ]
  },
  {
   "cell_type": "markdown",
   "metadata": {},
   "source": [
    "<hr id=\"install\">\n",
    "\n",
    "## Install Cirq\n"
   ]
  },
  {
   "cell_type": "markdown",
   "metadata": {},
   "source": [
    "Type\n",
    "\n",
    "    !pip install cirq\n",
    "    \n",
    "directly inside the cell of a Jupyter notebook.\n",
    "\n",
    "You may also visit the following links for further information.\n",
    "\n",
    "- https://pypi.org/project/cirq/\n",
    "\n",
    "- https://quantumai.google/cirq/install?hl=en"
   ]
  },
  {
   "cell_type": "markdown",
   "metadata": {},
   "source": [
    "__*Restart the kernel*__ (check \"Kernel\" menu) to apply the changes to the current notebook."
   ]
  },
  {
   "cell_type": "markdown",
   "metadata": {},
   "source": [
    "<hr id=\"check\">\n",
    "\n",
    "## Check Cirq installation\n",
    "\n"
   ]
  },
  {
   "cell_type": "code",
   "execution_count": 2,
   "metadata": {},
   "outputs": [
    {
     "name": "stdout",
     "output_type": "stream",
     "text": [
      "Collecting cirq\n",
      "  Downloading cirq-0.14.1-py3-none-any.whl (7.8 kB)\n",
      "Collecting cirq-ionq==0.14.1\n",
      "  Downloading cirq_ionq-0.14.1-py3-none-any.whl (48 kB)\n",
      "Collecting cirq-google==0.14.1\n",
      "  Downloading cirq_google-0.14.1-py3-none-any.whl (541 kB)\n",
      "Collecting cirq-rigetti==0.14.1\n",
      "  Downloading cirq_rigetti-0.14.1-py3-none-any.whl (56 kB)\n",
      "Collecting cirq-pasqal==0.14.1\n",
      "  Downloading cirq_pasqal-0.14.1-py3-none-any.whl (30 kB)\n",
      "Collecting cirq-aqt==0.14.1\n",
      "  Downloading cirq_aqt-0.14.1-py3-none-any.whl (19 kB)\n",
      "Collecting cirq-web==0.14.1\n",
      "  Downloading cirq_web-0.14.1-py3-none-any.whl (593 kB)\n",
      "Collecting cirq-core==0.14.1\n",
      "  Downloading cirq_core-0.14.1-py3-none-any.whl (1.8 MB)\n",
      "Requirement already satisfied: requests~=2.18 in c:\\users\\c_nrc\\anaconda3\\envs\\qiskitenv\\lib\\site-packages (from cirq-aqt==0.14.1->cirq) (2.25.1)\n",
      "Requirement already satisfied: pandas in c:\\users\\c_nrc\\anaconda3\\envs\\qiskitenv\\lib\\site-packages (from cirq-core==0.14.1->cirq) (1.2.3)\n",
      "Requirement already satisfied: matplotlib~=3.0 in c:\\users\\c_nrc\\anaconda3\\envs\\qiskitenv\\lib\\site-packages (from cirq-core==0.14.1->cirq) (3.3.4)\n",
      "Collecting tqdm\n",
      "  Downloading tqdm-4.64.0-py2.py3-none-any.whl (78 kB)\n",
      "Requirement already satisfied: scipy in c:\\users\\c_nrc\\anaconda3\\envs\\qiskitenv\\lib\\site-packages (from cirq-core==0.14.1->cirq) (1.6.1)\n",
      "Requirement already satisfied: networkx~=2.4 in c:\\users\\c_nrc\\anaconda3\\envs\\qiskitenv\\lib\\site-packages (from cirq-core==0.14.1->cirq) (2.5)\n",
      "Requirement already satisfied: sympy<1.10 in c:\\users\\c_nrc\\anaconda3\\envs\\qiskitenv\\lib\\site-packages (from cirq-core==0.14.1->cirq) (1.7.1)\n",
      "Collecting typing-extensions\n",
      "  Downloading typing_extensions-4.2.0-py3-none-any.whl (24 kB)\n",
      "Requirement already satisfied: numpy~=1.16 in c:\\users\\c_nrc\\anaconda3\\envs\\qiskitenv\\lib\\site-packages (from cirq-core==0.14.1->cirq) (1.20.1)\n",
      "Collecting duet~=0.2.0\n",
      "  Downloading duet-0.2.6-py3-none-any.whl (28 kB)\n",
      "Collecting sortedcontainers~=2.0\n",
      "  Downloading sortedcontainers-2.4.0-py2.py3-none-any.whl (29 kB)\n",
      "Collecting google-api-core[grpc]<2.0.0dev,>=1.14.0\n",
      "  Downloading google_api_core-1.31.5-py2.py3-none-any.whl (93 kB)\n",
      "Collecting protobuf>=3.13.0\n",
      "  Downloading protobuf-3.20.1-cp39-cp39-win_amd64.whl (904 kB)\n",
      "Collecting pyquil~=3.0.0\n",
      "  Downloading pyquil-3.0.1-py3-none-any.whl (220 kB)\n",
      "Collecting httpcore~=0.11.1\n",
      "  Downloading httpcore-0.11.1-py3-none-any.whl (52 kB)\n",
      "Collecting pydantic~=1.8.2\n",
      "  Downloading pydantic-1.8.2-cp39-cp39-win_amd64.whl (1.9 MB)\n",
      "Collecting pyjwt~=1.7.1\n",
      "  Using cached PyJWT-1.7.1-py2.py3-none-any.whl (18 kB)\n",
      "Collecting six~=1.16.0\n",
      "  Downloading six-1.16.0-py2.py3-none-any.whl (11 kB)\n",
      "Collecting qcs-api-client~=0.8.0\n",
      "  Downloading qcs_api_client-0.8.0-py3-none-any.whl (97 kB)\n",
      "Requirement already satisfied: python-dateutil~=2.8.1 in c:\\users\\c_nrc\\anaconda3\\envs\\qiskitenv\\lib\\site-packages (from cirq-rigetti==0.14.1->cirq) (2.8.1)\n",
      "Collecting iso8601~=0.1.14\n",
      "  Downloading iso8601-0.1.16-py2.py3-none-any.whl (10 kB)\n",
      "Collecting toml~=0.10.2\n",
      "  Using cached toml-0.10.2-py2.py3-none-any.whl (16 kB)\n",
      "Collecting retrying~=1.3.3\n",
      "  Downloading retrying-1.3.3.tar.gz (10 kB)\n",
      "Collecting httpx~=0.15.5\n",
      "  Downloading httpx-0.15.5-py3-none-any.whl (65 kB)\n",
      "Requirement already satisfied: attrs~=20.3.0 in c:\\users\\c_nrc\\anaconda3\\envs\\qiskitenv\\lib\\site-packages (from cirq-rigetti==0.14.1->cirq) (20.3.0)\n",
      "Collecting rfc3986~=1.5.0\n",
      "  Downloading rfc3986-1.5.0-py2.py3-none-any.whl (31 kB)\n",
      "Collecting sniffio~=1.2.0\n",
      "  Downloading sniffio-1.2.0-py3-none-any.whl (10 kB)\n",
      "Collecting certifi~=2021.5.30\n",
      "  Downloading certifi-2021.5.30-py2.py3-none-any.whl (145 kB)\n",
      "Collecting rfc3339~=6.2\n",
      "  Downloading rfc3339-6.2-py3-none-any.whl (5.5 kB)\n",
      "Collecting h11~=0.9.0\n",
      "  Downloading h11-0.9.0-py2.py3-none-any.whl (53 kB)\n",
      "Requirement already satisfied: idna~=2.10 in c:\\users\\c_nrc\\anaconda3\\envs\\qiskitenv\\lib\\site-packages (from cirq-rigetti==0.14.1->cirq) (2.10)\n",
      "Requirement already satisfied: setuptools>=40.3.0 in c:\\users\\c_nrc\\anaconda3\\envs\\qiskitenv\\lib\\site-packages (from google-api-core[grpc]<2.0.0dev,>=1.14.0->cirq-google==0.14.1->cirq) (52.0.0.post20210125)\n",
      "Requirement already satisfied: packaging>=14.3 in c:\\users\\c_nrc\\anaconda3\\envs\\qiskitenv\\lib\\site-packages (from google-api-core[grpc]<2.0.0dev,>=1.14.0->cirq-google==0.14.1->cirq) (20.9)\n",
      "Requirement already satisfied: pytz in c:\\users\\c_nrc\\anaconda3\\envs\\qiskitenv\\lib\\site-packages (from google-api-core[grpc]<2.0.0dev,>=1.14.0->cirq-google==0.14.1->cirq) (2021.1)\n",
      "Collecting googleapis-common-protos<2.0dev,>=1.6.0\n",
      "  Downloading googleapis_common_protos-1.56.0-py2.py3-none-any.whl (241 kB)\n",
      "Collecting google-auth<2.0dev,>=1.25.0\n",
      "  Downloading google_auth-1.35.0-py2.py3-none-any.whl (152 kB)\n",
      "Collecting grpcio<2.0dev,>=1.29.0\n",
      "  Downloading grpcio-1.44.0-cp39-cp39-win_amd64.whl (3.4 MB)\n",
      "Collecting rsa<5,>=3.1.4\n",
      "  Downloading rsa-4.8-py3-none-any.whl (39 kB)\n",
      "Collecting pyasn1-modules>=0.2.1\n",
      "  Using cached pyasn1_modules-0.2.8-py2.py3-none-any.whl (155 kB)\n",
      "Collecting cachetools<5.0,>=2.0.0\n",
      "  Downloading cachetools-4.2.4-py3-none-any.whl (10 kB)\n",
      "Requirement already satisfied: pillow>=6.2.0 in c:\\users\\c_nrc\\anaconda3\\envs\\qiskitenv\\lib\\site-packages (from matplotlib~=3.0->cirq-core==0.14.1->cirq) (8.1.1)\n",
      "Requirement already satisfied: pyparsing!=2.0.4,!=2.1.2,!=2.1.6,>=2.0.3 in c:\\users\\c_nrc\\anaconda3\\envs\\qiskitenv\\lib\\site-packages (from matplotlib~=3.0->cirq-core==0.14.1->cirq) (2.4.7)\n",
      "Requirement already satisfied: kiwisolver>=1.0.1 in c:\\users\\c_nrc\\anaconda3\\envs\\qiskitenv\\lib\\site-packages (from matplotlib~=3.0->cirq-core==0.14.1->cirq) (1.3.1)\n",
      "Requirement already satisfied: cycler>=0.10 in c:\\users\\c_nrc\\anaconda3\\envs\\qiskitenv\\lib\\site-packages (from matplotlib~=3.0->cirq-core==0.14.1->cirq) (0.10.0)\n",
      "Requirement already satisfied: decorator>=4.3.0 in c:\\users\\c_nrc\\anaconda3\\envs\\qiskitenv\\lib\\site-packages (from networkx~=2.4->cirq-core==0.14.1->cirq) (4.4.2)\n",
      "Collecting pyasn1<0.5.0,>=0.4.6\n",
      "  Using cached pyasn1-0.4.8-py2.py3-none-any.whl (77 kB)\n",
      "Collecting retry<0.10.0,>=0.9.2\n",
      "  Downloading retry-0.9.2-py2.py3-none-any.whl (8.0 kB)\n",
      "Collecting lark<0.12.0,>=0.11.1\n",
      "  Using cached lark-0.11.3.tar.gz (229 kB)\n",
      "Collecting rpcq<4.0.0,>=3.6.0\n",
      "  Downloading rpcq-3.10.0.tar.gz (44 kB)\n",
      "Requirement already satisfied: chardet<5,>=3.0.2 in c:\\users\\c_nrc\\anaconda3\\envs\\qiskitenv\\lib\\site-packages (from requests~=2.18->cirq-aqt==0.14.1->cirq) (4.0.0)\n",
      "Requirement already satisfied: urllib3<1.27,>=1.21.1 in c:\\users\\c_nrc\\anaconda3\\envs\\qiskitenv\\lib\\site-packages (from requests~=2.18->cirq-aqt==0.14.1->cirq) (1.26.3)\n",
      "Collecting py<2.0.0,>=1.4.26\n",
      "  Downloading py-1.11.0-py2.py3-none-any.whl (98 kB)\n",
      "Collecting msgpack<1.0,>=0.6\n",
      "  Using cached msgpack-0.6.2.tar.gz (119 kB)\n",
      "Collecting python-rapidjson\n",
      "  Downloading python_rapidjson-1.6-cp39-cp39-win_amd64.whl (141 kB)\n",
      "Requirement already satisfied: pyzmq>=17 in c:\\users\\c_nrc\\anaconda3\\envs\\qiskitenv\\lib\\site-packages (from rpcq<4.0.0,>=3.6.0->pyquil~=3.0.0->cirq-rigetti==0.14.1->cirq) (22.0.3)\n",
      "Collecting ruamel.yaml\n",
      "  Downloading ruamel.yaml-0.17.21-py3-none-any.whl (109 kB)\n",
      "Requirement already satisfied: mpmath>=0.19 in c:\\users\\c_nrc\\anaconda3\\envs\\qiskitenv\\lib\\site-packages (from sympy<1.10->cirq-core==0.14.1->cirq) (1.2.1)\n",
      "Collecting ruamel.yaml.clib>=0.2.6\n",
      "  Downloading ruamel.yaml.clib-0.2.6-cp39-cp39-win_amd64.whl (118 kB)\n",
      "Requirement already satisfied: colorama in c:\\users\\c_nrc\\anaconda3\\envs\\qiskitenv\\lib\\site-packages (from tqdm->cirq-core==0.14.1->cirq) (0.4.4)\n",
      "Building wheels for collected packages: lark, retrying, rpcq, msgpack\n",
      "  Building wheel for lark (setup.py): started\n",
      "  Building wheel for lark (setup.py): finished with status 'done'\n",
      "  Created wheel for lark: filename=lark-0.11.3-py2.py3-none-any.whl size=99635 sha256=e09f2321f4584b6418cec5783f0e172c411ebeefa4799f59a06bb15525310222\n",
      "  Stored in directory: c:\\users\\c_nrc\\appdata\\local\\pip\\cache\\wheels\\ec\\6a\\24\\f8eeaf52fee56bfe54309621b59c41bb7f1df56f4bfbcdb0ce\n",
      "  Building wheel for retrying (setup.py): started\n",
      "  Building wheel for retrying (setup.py): finished with status 'done'\n",
      "  Created wheel for retrying: filename=retrying-1.3.3-py3-none-any.whl size=11429 sha256=9080de7e5462890aab432e5708252b264c1b8853e3b06a95d16feba27ef09dc7\n",
      "  Stored in directory: c:\\users\\c_nrc\\appdata\\local\\pip\\cache\\wheels\\ce\\18\\7f\\e9527e3e66db1456194ac7f61eb3211068c409edceecff2d31\n",
      "  Building wheel for rpcq (setup.py): started\n",
      "  Building wheel for rpcq (setup.py): finished with status 'done'\n",
      "  Created wheel for rpcq: filename=rpcq-3.10.0-py3-none-any.whl size=45959 sha256=b23ae74d295593a812438909e652d4ce5adaaabeced3579cb2c2d0f64d928484\n",
      "  Stored in directory: c:\\users\\c_nrc\\appdata\\local\\pip\\cache\\wheels\\5b\\75\\2d\\be786ec4ee1db05f675b1cdce6104238823daa7db68b94002a\n",
      "  Building wheel for msgpack (setup.py): started\n",
      "  Building wheel for msgpack (setup.py): finished with status 'done'\n",
      "  Created wheel for msgpack: filename=msgpack-0.6.2-cp39-cp39-win_amd64.whl size=14585 sha256=97462f6beb87297acf678431bae35aa84243fe9a581d6535e9627b5e6379a6ec\n",
      "  Stored in directory: c:\\users\\c_nrc\\appdata\\local\\pip\\cache\\wheels\\2d\\aa\\9b\\368f5032afaa6628fc86d81ffbc3dc0937a447cec0fe48fc55\n",
      "Successfully built lark retrying rpcq msgpack\n",
      "Installing collected packages: sniffio, rfc3986, pyasn1, h11, typing-extensions, six, ruamel.yaml.clib, rsa, pyasn1-modules, protobuf, httpcore, certifi, cachetools, toml, ruamel.yaml, rfc3339, retrying, python-rapidjson, pyjwt, pydantic, py, msgpack, iso8601, httpx, googleapis-common-protos, google-auth, tqdm, sortedcontainers, rpcq, retry, qcs-api-client, lark, grpcio, google-api-core, duet, pyquil, cirq-core, cirq-web, cirq-rigetti, cirq-pasqal, cirq-ionq, cirq-google, cirq-aqt, cirq\n",
      "  Attempting uninstall: six\n",
      "    Found existing installation: six 1.15.0\n",
      "    Uninstalling six-1.15.0:\n",
      "      Successfully uninstalled six-1.15.0\n",
      "  Attempting uninstall: certifi\n",
      "    Found existing installation: certifi 2020.12.5\n",
      "    Uninstalling certifi-2020.12.5:\n",
      "      Successfully uninstalled certifi-2020.12.5\n",
      "Successfully installed cachetools-4.2.4 certifi-2021.5.30 cirq-0.14.1 cirq-aqt-0.14.1 cirq-core-0.14.1 cirq-google-0.14.1 cirq-ionq-0.14.1 cirq-pasqal-0.14.1 cirq-rigetti-0.14.1 cirq-web-0.14.1 duet-0.2.6 google-api-core-1.31.5 google-auth-1.35.0 googleapis-common-protos-1.56.0 grpcio-1.44.0 h11-0.9.0 httpcore-0.11.1 httpx-0.15.5 iso8601-0.1.16 lark-0.11.3 msgpack-0.6.2 protobuf-3.20.1 py-1.11.0 pyasn1-0.4.8 pyasn1-modules-0.2.8 pydantic-1.8.2 pyjwt-1.7.1 pyquil-3.0.1 python-rapidjson-1.6 qcs-api-client-0.8.0 retry-0.9.2 retrying-1.3.3 rfc3339-6.2 rfc3986-1.5.0 rpcq-3.10.0 rsa-4.8 ruamel.yaml-0.17.21 ruamel.yaml.clib-0.2.6 six-1.16.0 sniffio-1.2.0 sortedcontainers-2.4.0 toml-0.10.2 tqdm-4.64.0 typing-extensions-4.2.0\n"
     ]
    }
   ],
   "source": [
    "!pip install cirq"
   ]
  },
  {
   "cell_type": "code",
   "execution_count": 3,
   "metadata": {},
   "outputs": [
    {
     "ename": "AttributeError",
     "evalue": "module 'cirq' has no attribute 'google'",
     "output_type": "error",
     "traceback": [
      "\u001b[1;31m---------------------------------------------------------------------------\u001b[0m",
      "\u001b[1;31mAttributeError\u001b[0m                            Traceback (most recent call last)",
      "\u001b[1;32m<ipython-input-3-d7907c72cdcd>\u001b[0m in \u001b[0;36m<module>\u001b[1;34m\u001b[0m\n\u001b[0;32m      1\u001b[0m \u001b[1;32mimport\u001b[0m \u001b[0mcirq\u001b[0m\u001b[1;33m\u001b[0m\u001b[1;33m\u001b[0m\u001b[0m\n\u001b[0;32m      2\u001b[0m \u001b[1;33m\u001b[0m\u001b[0m\n\u001b[1;32m----> 3\u001b[1;33m \u001b[0mprint\u001b[0m\u001b[1;33m(\u001b[0m\u001b[0mcirq\u001b[0m\u001b[1;33m.\u001b[0m\u001b[0mgoogle\u001b[0m\u001b[1;33m.\u001b[0m\u001b[0mFoxtail\u001b[0m\u001b[1;33m)\u001b[0m\u001b[1;33m\u001b[0m\u001b[1;33m\u001b[0m\u001b[0m\n\u001b[0m\u001b[0;32m      4\u001b[0m \u001b[1;31m# should print:\u001b[0m\u001b[1;33m\u001b[0m\u001b[1;33m\u001b[0m\u001b[1;33m\u001b[0m\u001b[0m\n\u001b[0;32m      5\u001b[0m \u001b[1;31m# (0, 0)───(0, 1)───(0, 2)───(0, 3)───(0, 4)───(0, 5)───(0, 6)───(0, 7)───(0, 8)───(0, 9)───(0, 10)\u001b[0m\u001b[1;33m\u001b[0m\u001b[1;33m\u001b[0m\u001b[1;33m\u001b[0m\u001b[0m\n",
      "\u001b[1;31mAttributeError\u001b[0m: module 'cirq' has no attribute 'google'"
     ]
    }
   ],
   "source": [
    "import cirq\n",
    "\n",
    "print(cirq.google.Foxtail)\n",
    "# should print:\n",
    "# (0, 0)───(0, 1)───(0, 2)───(0, 3)───(0, 4)───(0, 5)───(0, 6)───(0, 7)───(0, 8)───(0, 9)───(0, 10)\n",
    "# │        │        │        │        │        │        │        │        │        │        │\n",
    "# │        │        │        │        │        │        │        │        │        │        │\n",
    "# (1, 0)───(1, 1)───(1, 2)───(1, 3)───(1, 4)───(1, 5)───(1, 6)───(1, 7)───(1, 8)───(1, 9)───(1, 10)"
   ]
  },
  {
   "cell_type": "markdown",
   "metadata": {},
   "source": [
    "<hr id=\"example\">\n",
    "\n",
    "## Execute An Example Program\n"
   ]
  },
  {
   "cell_type": "markdown",
   "metadata": {},
   "source": [
    "1) Create a quantum circuit"
   ]
  },
  {
   "cell_type": "code",
   "execution_count": 7,
   "metadata": {},
   "outputs": [
    {
     "name": "stdout",
     "output_type": "stream",
     "text": [
      "0 (d=3): ───[+1]───\n"
     ]
    }
   ],
   "source": [
    "import cirq\n",
    "\n",
    "class QutritPlusGate(cirq.SingleQubitGate):\n",
    "    def _qid_shape_(self):\n",
    "        return (3,)\n",
    "\n",
    "    def _unitary_(self):\n",
    "        return np.array([[0, 0, 1],\n",
    "                         [1, 0, 0],\n",
    "                         [0, 1, 0]])\n",
    "\n",
    "    def _circuit_diagram_info_(self, args):\n",
    "        return '[+1]'\n",
    "\n",
    "q0 = cirq.LineQid(0, dimension=3)\n",
    "circuit = cirq.Circuit(\n",
    "    QutritPlusGate().on(q0)\n",
    ")\n",
    "print(circuit)"
   ]
  },
  {
   "cell_type": "code",
   "execution_count": 6,
   "metadata": {},
   "outputs": [
    {
     "name": "stdout",
     "output_type": "stream",
     "text": [
      "0 (d=3): ───[+2]───\n"
     ]
    }
   ],
   "source": [
    "import cirq\n",
    "\n",
    "class QutritPlusPlusGate(cirq.SingleQubitGate):\n",
    "    def _qid_shape_(self):\n",
    "        return (3,)\n",
    "\n",
    "    def _unitary_(self):\n",
    "        return np.array([[0, 1, 0],\n",
    "                         [0, 0, 1],\n",
    "                         [1, 0, 0]])\n",
    "\n",
    "    def _circuit_diagram_info_(self, args):\n",
    "        return '[+2]'\n",
    "\n",
    "q0 = cirq.LineQid(0, dimension=3)\n",
    "circuit = cirq.Circuit(\n",
    "    QutritPlusPlusGate().on(q0)\n",
    ")\n",
    "print(circuit)"
   ]
  },
  {
   "cell_type": "code",
   "execution_count": 8,
   "metadata": {},
   "outputs": [
    {
     "name": "stdout",
     "output_type": "stream",
     "text": [
      "0 (d=3): ───[-1]───\n"
     ]
    }
   ],
   "source": [
    "import cirq\n",
    "\n",
    "class QutritMinusGate(cirq.SingleQubitGate):\n",
    "    def _qid_shape_(self):\n",
    "        return (3,)\n",
    "\n",
    "    def _unitary_(self):\n",
    "        return np.array([[0, 0, 1],\n",
    "                         [0, 1, 0],\n",
    "                         [1, 0, 0]])\n",
    "\n",
    "    def _circuit_diagram_info_(self, args):\n",
    "        return '[-1]'\n",
    "\n",
    "q0 = cirq.LineQid(0, dimension=3)\n",
    "circuit = cirq.Circuit(\n",
    "    QutritMinusGate().on(q0)\n",
    ")\n",
    "print(circuit)"
   ]
  },
  {
   "cell_type": "code",
   "execution_count": null,
   "metadata": {},
   "outputs": [],
   "source": [
    "import cirq\n",
    "\n",
    "# Pick a qubit.\n",
    "qubit = cirq.GridQubit(0, 0)\n",
    "\n",
    "# Create a circuit\n",
    "circuit = cirq.Circuit(\n",
    "    cirq.X(qubit)**0.5,  # Square root of NOT.\n",
    "    cirq.measure(qubit, key='m')  # Measurement.\n",
    ")"
   ]
  },
  {
   "cell_type": "markdown",
   "metadata": {},
   "source": [
    "2) Draw the circuit\n",
    "\n",
    "_Run the cell once more if the figure is not shown_"
   ]
  },
  {
   "cell_type": "code",
   "execution_count": 6,
   "metadata": {
    "scrolled": true
   },
   "outputs": [
    {
     "name": "stdout",
     "output_type": "stream",
     "text": [
      "Circuit:\n",
      "(0, 0): ───X^0.5───M('m')───\n"
     ]
    }
   ],
   "source": [
    "print(\"Circuit:\")\n",
    "print(circuit)"
   ]
  },
  {
   "cell_type": "markdown",
   "metadata": {},
   "source": [
    "3) Execute the circuit 20 times in the local simulator and print the observed the outcomes"
   ]
  },
  {
   "cell_type": "code",
   "execution_count": 8,
   "metadata": {
    "scrolled": true
   },
   "outputs": [
    {
     "name": "stdout",
     "output_type": "stream",
     "text": [
      "Results:\n",
      "m=00000011111111111010\n"
     ]
    }
   ],
   "source": [
    "# Simulate the circuit several times.\n",
    "simulator = cirq.Simulator()\n",
    "result = simulator.run(circuit, repetitions=20)\n",
    "print(\"Results:\")\n",
    "print(result)"
   ]
  },
  {
   "cell_type": "markdown",
   "metadata": {},
   "source": [
    "4) Print a histogram of results"
   ]
  },
  {
   "cell_type": "code",
   "execution_count": 11,
   "metadata": {},
   "outputs": [
    {
     "name": "stdout",
     "output_type": "stream",
     "text": [
      "Counter({1: 12, 0: 8})\n"
     ]
    }
   ],
   "source": [
    "# Print a histogram of results\n",
    "results = result.histogram(key='m')\n",
    "print(results)"
   ]
  },
  {
   "cell_type": "markdown",
   "metadata": {},
   "source": [
    "Reference: https://pypi.org/project/cirq/"
   ]
  }
 ],
 "metadata": {
  "kernelspec": {
   "display_name": "Python 3",
   "language": "python",
   "name": "python3"
  },
  "language_info": {
   "codemirror_mode": {
    "name": "ipython",
    "version": 3
   },
   "file_extension": ".py",
   "mimetype": "text/x-python",
   "name": "python",
   "nbconvert_exporter": "python",
   "pygments_lexer": "ipython3",
   "version": "3.9.1"
  }
 },
 "nbformat": 4,
 "nbformat_minor": 2
}
