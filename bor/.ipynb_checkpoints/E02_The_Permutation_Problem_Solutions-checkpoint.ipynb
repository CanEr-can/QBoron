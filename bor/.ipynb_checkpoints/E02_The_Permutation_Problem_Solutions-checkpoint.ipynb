{
 "cells": [
  {
   "cell_type": "markdown",
   "metadata": {},
   "source": [
    "<table  align=\"left\" width=\"100%\"> <tr>\n",
    "        <td  style=\"background-color:#ffffff;\"><a href=\"https://qsoftware.lu.lv/index.php/qworld/\" target=\"_blank\"><img src=\"..\\images\\qworld.jpg\" width=\"35%\" align=\"left\"></a></td>\n",
    "        <td  align=\"right\" style=\"background-color:#ffffff;vertical-align:bottom;horizontal-align:right\">\n",
    "            prepared by Caner ERCAN (<a href=\"http://qworld.lu.lv/index.php/qturkey/\" target=\"_blank\">QTurkey</a>)\n",
    "        </td>        \n",
    "</tr></table>"
   ]
  },
  {
   "cell_type": "markdown",
   "metadata": {},
   "source": [
    "<table width=\"100%\"><tr><td style=\"color:#bbbbbb;background-color:#ffffff;font-size:11px;font-style:italic;text-align:right;\">This cell contains some macros. If there is a problem with displaying mathematical formulas, please run this cell to load these macros. </td></tr></table>\n",
    "$ \\newcommand{\\bra}[1]{\\langle #1|} $\n",
    "$ \\newcommand{\\ket}[1]{|#1\\rangle} $\n",
    "$ \\newcommand{\\braket}[2]{\\langle #1|#2\\rangle} $\n",
    "$ \\newcommand{\\dot}[2]{ #1 \\cdot #2} $\n",
    "$ \\newcommand{\\biginner}[2]{\\left\\langle #1,#2\\right\\rangle} $\n",
    "$ \\newcommand{\\mymatrix}[2]{\\left( \\begin{array}{#1} #2\\end{array} \\right)} $\n",
    "$ \\newcommand{\\myvector}[1]{\\mymatrix{c}{#1}} $\n",
    "$ \\newcommand{\\myrvector}[1]{\\mymatrix{r}{#1}} $\n",
    "$ \\newcommand{\\mypar}[1]{\\left( #1 \\right)} $\n",
    "$ \\newcommand{\\mybigpar}[1]{ \\Big( #1 \\Big)} $\n",
    "$ \\newcommand{\\sqrttwo}{\\frac{1}{\\sqrt{2}}} $\n",
    "$ \\newcommand{\\dsqrttwo}{\\dfrac{1}{\\sqrt{2}}} $\n",
    "$ \\newcommand{\\onehalf}{\\frac{1}{2}} $\n",
    "$ \\newcommand{\\donehalf}{\\dfrac{1}{2}} $\n",
    "$ \\newcommand{\\hadamard}{ \\mymatrix{rr}{ \\sqrttwo & \\sqrttwo \\\\ \\sqrttwo & -\\sqrttwo }} $\n",
    "$ \\newcommand{\\vzero}{\\myvector{1\\\\0}} $\n",
    "$ \\newcommand{\\vone}{\\myvector{0\\\\1}} $\n",
    "$ \\newcommand{\\stateplus}{\\myvector{ \\sqrttwo \\\\  \\sqrttwo } } $\n",
    "$ \\newcommand{\\stateminus}{ \\myrvector{ \\sqrttwo \\\\ -\\sqrttwo } } $\n",
    "$ \\newcommand{\\myarray}[2]{ \\begin{array}{#1}#2\\end{array}} $\n",
    "$ \\newcommand{\\X}{ \\mymatrix{cc}{0 & 1 \\\\ 1 & 0}  } $\n",
    "$ \\newcommand{\\Z}{ \\mymatrix{rr}{1 & 0 \\\\ 0 & -1}  } $\n",
    "$ \\newcommand{\\Htwo}{ \\mymatrix{rrrr}{ \\frac{1}{2} & \\frac{1}{2} & \\frac{1}{2} & \\frac{1}{2} \\\\ \\frac{1}{2} & -\\frac{1}{2} & \\frac{1}{2} & -\\frac{1}{2} \\\\ \\frac{1}{2} & \\frac{1}{2} & -\\frac{1}{2} & -\\frac{1}{2} \\\\ \\frac{1}{2} & -\\frac{1}{2} & -\\frac{1}{2} & \\frac{1}{2} } } $\n",
    "$ \\newcommand{\\CNOT}{ \\mymatrix{cccc}{1 & 0 & 0 & 0 \\\\ 0 & 1 & 0 & 0 \\\\ 0 & 0 & 0 & 1 \\\\ 0 & 0 & 1 & 0} } $\n",
    "$ \\newcommand{\\norm}[1]{ \\left\\lVert #1 \\right\\rVert } $\n",
    "$ \\newcommand{\\pstate}[1]{ \\lceil \\mspace{-1mu} #1 \\mspace{-1.5mu} \\rfloor } $"
   ]
  },
  {
   "cell_type": "markdown",
   "metadata": {},
   "source": [
    "<h1> <font color=\"blue\"> Solutions for </font> The Permutation Problem</h1>"
   ]
  },
  {
   "cell_type": "markdown",
   "metadata": {},
   "source": [
    "<h3>Task 1 (on paper and optional)</h3>\n",
    "<a id=\"task1\"></a>"
   ]
  },
  {
   "cell_type": "markdown",
   "metadata": {},
   "source": [
    "Please, apply the $E$ gates defined below to its basis states, $E \\in$ {$\\ket{0}, \\ket{1},\\ket{2}$}.\n",
    "\n",
    "a) $ E_{2}= \\mymatrix{rrrrr}{0 & 0 & 0 \\\\ \n",
    "                    0 & 0 & 0 \\\\\n",
    "                    1 & 0 & 0} $\n",
    "\n",
    "b) $ E_{3}= \\mymatrix{rrrrr}{0 & 0 & 0 \\\\ \n",
    "                    0 & 0 & 1 \\\\\n",
    "                    0 & 0 & 0} $"
   ]
  },
  {
   "cell_type": "markdown",
   "metadata": {},
   "source": [
    "<h3>Solution </h3>"
   ]
  },
  {
   "cell_type": "markdown",
   "metadata": {},
   "source": [
    "\n",
    "$ E_{2}\\ket{0}= \\mymatrix{rrrrr}{0 & 0 & 0\\\\ \n",
    "                   0 & 0 & 0 \\\\\n",
    "                    1 & 0 & 0} \\myvector{1 \\\\ 0 \\\\ 0} = \\myvector{0 \\\\ 0 \\\\ 1}= \\ket{2}$\n",
    "\n",
    "$ E_{2}\\ket{1}= 0$\n",
    "\n",
    "$ E_{2}\\ket{2}= 0$\n",
    "\n",
    "\n",
    "\n",
    "\n",
    "$ E_{3}\\ket{0}= 0$\n",
    "\n",
    "$ E_{3}\\ket{1}= 0$\n",
    "\n",
    "$ E_{3}\\ket{2}= \\mymatrix{rrrrr}{0 & 0 & 0\\\\ \n",
    "                   0 & 0 & 1 \\\\\n",
    "                    0 & 0 & 0} \\myvector{0 \\\\ 0 \\\\ 1} = \\myvector{0 \\\\ 1 \\\\ 0}= \\ket{1}$"
   ]
  },
  {
   "cell_type": "markdown",
   "metadata": {},
   "source": [
    "<h3>Task 2 (on paper)</h3>\n",
    "<a id=\"task2\"></a>"
   ]
  },
  {
   "cell_type": "markdown",
   "metadata": {},
   "source": [
    "Please, add these three $E$ gates together. It will be $U_{f_{2}}$  that is our one of the permutation gates."
   ]
  },
  {
   "cell_type": "markdown",
   "metadata": {},
   "source": [
    "<h3>Solution </h3>\n",
    "\n",
    "\n",
    "$ E_{1} + E_{2} + E_{3} $ = $\\mymatrix{rrrrr}{0 & 1 & 0 \\\\ \n",
    "                   0 & 0 & 0 \\\\\n",
    "                   0 & 0 & 0} + \\mymatrix{rrrrr}{0 & 0 & 0 \\\\ \n",
    "                    0 & 0 & 0 \\\\\n",
    "                    1 & 0 & 0}  + \\mymatrix{rrrrr}{0 & 0 & 0 \\\\ \n",
    "                    0 & 0 & 1 \\\\\n",
    "                    0 & 0 & 0}  = \\mymatrix{rrrrr}{0 & 1 & 0 \\\\ \n",
    "                    0 & 0 & 1 \\\\\n",
    "                    1 & 0 & 0} = U_{f_{2}}$ "
   ]
  },
  {
   "cell_type": "markdown",
   "metadata": {},
   "source": [
    "<h3>Task 3 (on paper)</h3>\n",
    "<a id=\"task3\"></a>"
   ]
  },
  {
   "cell_type": "markdown",
   "metadata": {},
   "source": [
    "Please, do same sequence for other $f$ functions and determine how many iteration should be applied to have same input series? "
   ]
  },
  {
   "cell_type": "markdown",
   "metadata": {},
   "source": [
    "<h3>Solution </h3>\n",
    "\n",
    "For other even functions;\n",
    "\n",
    "* If I applied function $f_{1}$ to the series $(0,1,2)$, I will have the series $(0,1,2)$. So, I should do $1$ iteration to have same series for $f_{1}$ function as you can see easily. \n",
    "\n",
    "* If I applied function $f_{3}$ to the series $(0,1,2)$, I will have the series $(1,2,0)$. And I applied same gate to this output series as input series, I will have $(2,0,1)$. And again, I will have the same input series $(0,1,2)$. So, I should do $3$ iteration to have same series for $f_{3}$ function. \n",
    "\n",
    "For other odd functions;\n",
    "* If I applied function $f_{4}$ to the series $(0,1,2)$, I will have the series $(2,1,0)$. And again, I applied same gate to this output series as input series, I will have $(0,1,2)$. So, I should do $2$ iteration to have same series for $f_{4}$ function. \n",
    "\n",
    "* If I applied function $f_{5}$ to the series $(0,1,2)$, I will have the series $(1,0,2)$. And again, I applied same gate to this output series as input series, I will have $(0,1,2)$. So, I should do $2$ iteration to have same series for $f_{5}$ function. \n",
    "\n",
    "\n",
    "* If I applied function $f_{6}$ to the series $(0,1,2)$, I will have the series $(0,2,1)$. And again, I applied same gate to this output series as input series, I will have $(0,1,2)$. So, I should do $2$ iteration to have same series for $f_{6}$ function. "
   ]
  },
  {
   "cell_type": "markdown",
   "metadata": {},
   "source": [
    "<h3>Task 4 (on paper and optional)</h3>\n",
    "<a id=\"task4\"></a>\n",
    "\n",
    "Attention! An unscientific example... The name of person who has prepared this material is Caner Ercan. If you represent this name and surname as a vector and want to go and come between this name and surname, how matrices are needed? \n",
    "\n",
    "$\\myvector{C\\\\A\\\\N\\\\E\\\\R} \\mbox{ , } \\myvector{E\\\\R\\\\C\\\\A\\\\N}$"
   ]
  },
  {
   "cell_type": "markdown",
   "metadata": {},
   "source": [
    "<h3>Solution </h3>\n",
    "\n",
    "$$N=\\mymatrix{rrrrr}{0 & 0 & 0 & 1 & 0 \\\\ \n",
    "                   0 & 0 & 0 & 0 & 1 \\\\\n",
    "                    1 & 0 & 0 & 0 & 0 \\\\\n",
    "                    0 & 1 & 0 & 0 & 0 \\\\\n",
    "                    0 & 0 & 1 & 0 & 0 \\\\} \\mbox{ , }  N^\\dagger=\\mymatrix{rrrrr}{0 & 0 & 1 & 0 & 0 \\\\ \n",
    "                   0 & 0 & 0 & 1 & 0 \\\\\n",
    "                    0 & 0 & 0 & 0 & 1 \\\\\n",
    "                    1 & 0 & 0 & 0 & 0 \\\\\n",
    "                    0 & 1 & 0 & 0 & 0 \\\\}$$\n",
    "                    \n",
    "\n",
    "\n",
    "$$\\mymatrix{rrrrr}{0 & 0 & 0 & 1 & 0 \\\\ \n",
    "                   0 & 0 & 0 & 0 & 1 \\\\\n",
    "                    1 & 0 & 0 & 0 & 0 \\\\\n",
    "                    0 & 1 & 0 & 0 & 0 \\\\\n",
    "                    0 & 0 & 1 & 0 & 0 \\\\}\\myvector{C\\\\A\\\\N\\\\E\\\\R}=\\myvector{E\\\\R\\\\C\\\\A\\\\N} \\mbox{ , }\\mymatrix{rrrrr}{0 & 0 & 1 & 0 & 0 \\\\ \n",
    "                   0 & 0 & 0 & 1 & 0 \\\\\n",
    "                    0 & 0 & 0 & 0 & 1 \\\\\n",
    "                    1 & 0 & 0 & 0 & 0 \\\\\n",
    "                    0 & 1 & 0 & 0 & 0 \\\\}\\myvector{E\\\\R\\\\C\\\\A\\\\N}=\\myvector{C\\\\A\\\\N\\\\E\\\\R}$$"
   ]
  },
  {
   "cell_type": "code",
   "execution_count": null,
   "metadata": {},
   "outputs": [],
   "source": [
    "#\n",
    "#no more answer!\n",
    "#"
   ]
  }
 ],
 "metadata": {
  "kernelspec": {
   "display_name": "Python 3",
   "language": "python",
   "name": "python3"
  },
  "language_info": {
   "codemirror_mode": {
    "name": "ipython",
    "version": 3
   },
   "file_extension": ".py",
   "mimetype": "text/x-python",
   "name": "python",
   "nbconvert_exporter": "python",
   "pygments_lexer": "ipython3",
   "version": "3.9.1"
  }
 },
 "nbformat": 4,
 "nbformat_minor": 2
}
