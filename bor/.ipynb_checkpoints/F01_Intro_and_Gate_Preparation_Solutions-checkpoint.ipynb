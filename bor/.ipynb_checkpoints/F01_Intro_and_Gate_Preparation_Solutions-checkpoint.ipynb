{
 "cells": [
  {
   "cell_type": "markdown",
   "metadata": {},
   "source": [
    "<table  align=\"left\" width=\"100%\"> <tr>\n",
    "        <td  style=\"background-color:#ffffff;\"><a href=\"https://qsoftware.lu.lv/index.php/qworld/\" target=\"_blank\"><img src=\"..\\images\\qworld.jpg\" width=\"35%\" align=\"left\"></a></td>\n",
    "        <td  align=\"right\" style=\"background-color:#ffffff;vertical-align:bottom;horizontal-align:right\">\n",
    "            prepared by Caner ERCAN (<a href=\"http://qworld.lu.lv/index.php/qturkey/\" target=\"_blank\">QTurkey</a>)\n",
    "        </td>        \n",
    "</tr></table>"
   ]
  },
  {
   "cell_type": "markdown",
   "metadata": {},
   "source": [
    "<table width=\"100%\"><tr><td style=\"color:#bbbbbb;background-color:#ffffff;font-size:11px;font-style:italic;text-align:right;\">This cell contains some macros. If there is a problem with displaying mathematical formulas, please run this cell to load these macros. </td></tr></table>\n",
    "$ \\newcommand{\\bra}[1]{\\langle #1|} $\n",
    "$ \\newcommand{\\ket}[1]{|#1\\rangle} $\n",
    "$ \\newcommand{\\braket}[2]{\\langle #1|#2\\rangle} $\n",
    "$ \\newcommand{\\dot}[2]{ #1 \\cdot #2} $\n",
    "$ \\newcommand{\\biginner}[2]{\\left\\langle #1,#2\\right\\rangle} $\n",
    "$ \\newcommand{\\mymatrix}[2]{\\left( \\begin{array}{#1} #2\\end{array} \\right)} $\n",
    "$ \\newcommand{\\myvector}[1]{\\mymatrix{c}{#1}} $\n",
    "$ \\newcommand{\\myrvector}[1]{\\mymatrix{r}{#1}} $\n",
    "$ \\newcommand{\\mypar}[1]{\\left( #1 \\right)} $\n",
    "$ \\newcommand{\\mybigpar}[1]{ \\Big( #1 \\Big)} $\n",
    "$ \\newcommand{\\sqrttwo}{\\frac{1}{\\sqrt{2}}} $\n",
    "$ \\newcommand{\\dsqrttwo}{\\dfrac{1}{\\sqrt{2}}} $\n",
    "$ \\newcommand{\\onehalf}{\\frac{1}{2}} $\n",
    "$ \\newcommand{\\donehalf}{\\dfrac{1}{2}} $\n",
    "$ \\newcommand{\\hadamard}{ \\mymatrix{rr}{ \\sqrttwo & \\sqrttwo \\\\ \\sqrttwo & -\\sqrttwo }} $\n",
    "$ \\newcommand{\\vzero}{\\myvector{1\\\\0}} $\n",
    "$ \\newcommand{\\vone}{\\myvector{0\\\\1}} $\n",
    "$ \\newcommand{\\stateplus}{\\myvector{ \\sqrttwo \\\\  \\sqrttwo } } $\n",
    "$ \\newcommand{\\stateminus}{ \\myrvector{ \\sqrttwo \\\\ -\\sqrttwo } } $\n",
    "$ \\newcommand{\\myarray}[2]{ \\begin{array}{#1}#2\\end{array}} $\n",
    "$ \\newcommand{\\X}{ \\mymatrix{cc}{0 & 1 \\\\ 1 & 0}  } $\n",
    "$ \\newcommand{\\Z}{ \\mymatrix{rr}{1 & 0 \\\\ 0 & -1}  } $\n",
    "$ \\newcommand{\\Htwo}{ \\mymatrix{rrrr}{ \\frac{1}{2} & \\frac{1}{2} & \\frac{1}{2} & \\frac{1}{2} \\\\ \\frac{1}{2} & -\\frac{1}{2} & \\frac{1}{2} & -\\frac{1}{2} \\\\ \\frac{1}{2} & \\frac{1}{2} & -\\frac{1}{2} & -\\frac{1}{2} \\\\ \\frac{1}{2} & -\\frac{1}{2} & -\\frac{1}{2} & \\frac{1}{2} } } $\n",
    "$ \\newcommand{\\CNOT}{ \\mymatrix{cccc}{1 & 0 & 0 & 0 \\\\ 0 & 1 & 0 & 0 \\\\ 0 & 0 & 0 & 1 \\\\ 0 & 0 & 1 & 0} } $\n",
    "$ \\newcommand{\\norm}[1]{ \\left\\lVert #1 \\right\\rVert } $\n",
    "$ \\newcommand{\\pstate}[1]{ \\lceil \\mspace{-1mu} #1 \\mspace{-1.5mu} \\rfloor } $"
   ]
  },
  {
   "cell_type": "markdown",
   "metadata": {},
   "source": [
    "<h1> <font color=\"blue\"> Solutions for </font> Intro and Gate Preparation</h1>"
   ]
  },
  {
   "cell_type": "markdown",
   "metadata": {},
   "source": [
    "<h3>Task 1 (on paper)</h3>\n",
    "<a id=\"task1\"></a>\n",
    "\n",
    "Please, perform this fact to convince yourself. "
   ]
  },
  {
   "cell_type": "markdown",
   "metadata": {},
   "source": [
    "<h3>Solution </h3>"
   ]
  },
  {
   "cell_type": "markdown",
   "metadata": {},
   "source": [
    "$P_{0}^- = (H \\otimes H)CNOT(H \\otimes H)=\\frac{1}{\\sqrt{2}}\\mymatrix{rr}{1 & 1 \\\\ 1 & -1} \\otimes \\frac{1}{\\sqrt{2}}\\mymatrix{rr}{1 & 1 \\\\ 1 & -1}\\mymatrix{rrrr}{1 & 0 & 0 & 0\\\\ \n",
    "                   0 & 1 & 0 & 0 \\\\ \n",
    "                   0 & 0 & 0 & 1 \\\\\n",
    "                   0 & 0 & 1 & 0} \\frac{1}{\\sqrt{2}}\\mymatrix{rr}{1 & 1 \\\\ 1 & -1} \\otimes \\frac{1}{\\sqrt{2}}\\mymatrix{rr}{1 & 1 \\\\ 1 & -1}= \\frac{1}{2}\\mymatrix{rrrr}{1 & 1 & 1 & 1\\\\ \n",
    "                   1 & -1 & 1 & -1 \\\\ \n",
    "                   1 & 1 & -1 & -1 \\\\\n",
    "                   1 & -1 & -1 & 1}\\mymatrix{rrrr}{1 & 0 & 0 & 0\\\\ \n",
    "                   0 & 1 & 0 & 0 \\\\ \n",
    "                   0 & 0 & 0 & 1 \\\\\n",
    "                   0 & 0 & 1 & 0}\\frac{1}{2}\\mymatrix{rrrr}{1 & 1 & 1 & 1\\\\ \n",
    "                   1 & -1 & 1 & -1 \\\\ \n",
    "                   1 & 1 & -1 & -1 \\\\\n",
    "                   1 & -1 & -1 & 1}=\\frac{1}{4}\\mymatrix{rrrr}{1 & 1 & 1 & 1\\\\ \n",
    "                   1 & -1 & 1 & -1 \\\\ \n",
    "                   1 & 1 & -1 & -1 \\\\\n",
    "                   1 & -1 & -1 & 1}\\mymatrix{rrrr}{1 & 1 & 1 & 1\\\\ \n",
    "                   1 & -1 & 1 & -1 \\\\\n",
    "                   1 & -1 & -1 & 1 \\\\ \n",
    "                   1 & 1 & -1 & -1}$ \n",
    "                   \n",
    "$= \\frac{1}{4}\\mymatrix{rrrr}{4 & 0 & 0 & 0\\\\ \n",
    "                   0 & 0 & 0 & 4 \\\\ \n",
    "                   0 & 0 & 4 & 0 \\\\\n",
    "                   0 & 4 & 0 & 0} =\\mymatrix{rrrr}{1 & 0 & 0 & 0\\\\ \n",
    "                   0 & 0 & 0 & 1 \\\\ \n",
    "                   0 & 0 & 1 & 0 \\\\\n",
    "                   0 & 1 & 0 & 0}$"
   ]
  },
  {
   "cell_type": "markdown",
   "metadata": {},
   "source": [
    "<h3>Task 2 (on paper)</h3>\n",
    "<a id=\"task2\"></a>\n",
    "\n",
    "Please, produce matrix representations of the permutation $P_{2}^+, P_{3}^+$ and $P_{2}^-$ by using same methods. \n",
    "\n",
    "<h3>Solution </h3>\n",
    "\n",
    "$P_{2}^+=(X \\otimes I) =  \\mymatrix{rr}{0 & 1 \\\\ 1 & 0} \\otimes \\mymatrix{rr}{1 & 0 \\\\ 0 & 1}= \\mymatrix{rrrr}{0 & 0 & 1 & 0\\\\ \n",
    "                   0 & 0 & 0 & 1 \\\\ \n",
    "                   1 & 0 & 0 & 0 \\\\\n",
    "                   0 & 1 & 0 & 0}$\n",
    "\n",
    "\n",
    "$P_{3}^+=(H \\otimes H)CNOT(H \\otimes H)(I \\otimes X)$\n",
    "\n",
    "$=\\frac{1}{\\sqrt{2}}\\mymatrix{rr}{1 & 1 \\\\ 1 & -1} \\otimes \\frac{1}{\\sqrt{2}}\\mymatrix{rr}{1 & 1 \\\\ 1 & -1}\\mymatrix{rrrr}{1 & 0 & 0 & 0\\\\ \n",
    "                   0 & 1 & 0 & 0 \\\\ \n",
    "                   0 & 0 & 0 & 1 \\\\\n",
    "                   0 & 0 & 1 & 0} \\frac{1}{\\sqrt{2}}\\mymatrix{rr}{1 & 1 \\\\ 1 & -1} \\otimes \\frac{1}{\\sqrt{2}}\\mymatrix{rr}{1 & 1 \\\\ 1 & -1}\\mymatrix{rr}{1 & 0 \\\\ 0 & 1} \\otimes \\mymatrix{rr}{0 & 1 \\\\ 1 & 0}$ \n",
    "                   \n",
    "$= \\frac{1}{2}\\mymatrix{rrrr}{1 & 1 & 1 & 1\\\\ \n",
    "                   1 & -1 & 1 & -1 \\\\ \n",
    "                   1 & 1 & -1 & -1 \\\\\n",
    "                   1 & -1 & -1 & 1}\\mymatrix{rrrr}{1 & 0 & 0 & 0\\\\ \n",
    "                   0 & 1 & 0 & 0 \\\\ \n",
    "                   0 & 0 & 0 & 1 \\\\\n",
    "                   0 & 0 & 1 & 0}\\frac{1}{2}\\mymatrix{rrrr}{1 & 1 & 1 & 1\\\\ \n",
    "                   1 & -1 & 1 & -1 \\\\ \n",
    "                   1 & 1 & -1 & -1 \\\\\n",
    "                   1 & -1 & -1 & 1}\\mymatrix{rrrr}{0 & 1 & 0 & 0\\\\ \n",
    "                   1 & 0 & 0 & 0 \\\\ \n",
    "                   0 & 0 & 0 & 1 \\\\\n",
    "                   0 & 0 & 1 & 0}$\n",
    "                   \n",
    "$=\\frac{1}{4}\\mymatrix{rrrr}{1 & 1 & 1 & 1\\\\ \n",
    "                   1 & -1 & 1 & -1 \\\\ \n",
    "                   1 & 1 & -1 & -1 \\\\\n",
    "                   1 & -1 & -1 & 1}\\mymatrix{rrrr}{1 & 0 & 0 & 0\\\\ \n",
    "                   0 & 1 & 0 & 0 \\\\ \n",
    "                   0 & 0 & 0 & 1 \\\\\n",
    "                   0 & 0 & 1 & 0}\\mymatrix{rrrr}{1 & 1 & 1 & 1\\\\ \n",
    "                   -1 & 1 & -1 & 1 \\\\ \n",
    "                   1 & 1 & -1 & -1 \\\\\n",
    "                   -1 & 1 & 1 & -1}=\\frac{1}{4}\\mymatrix{rrrr}{1 & 1 & 1 & 1\\\\ \n",
    "                   1 & -1 & 1 & -1 \\\\ \n",
    "                   1 & 1 & -1 & -1 \\\\\n",
    "                   1 & -1 & -1 & 1}\\mymatrix{rrrr}{1 & 1 & 1 & 1\\\\ \n",
    "                   -1 & 1 & -1 & 1 \\\\ \n",
    "                   -1 & 1 & 1 & -1\\\\\n",
    "                   1 & 1 & -1 & -1 }$\n",
    "                   \n",
    "$=\\frac{1}{4}\\mymatrix{rrrr}{0 & 4 & 0 & 0\\\\ \n",
    "                   0 & 0 & 4 & 0 \\\\ \n",
    "                   0 & 0 & 0 & 4 \\\\\n",
    "                   4 & 0 & 0 & 0}=\\mymatrix{rrrr}{0 & 1 & 0 & 0\\\\ \n",
    "                   0 & 0 & 1 & 0 \\\\ \n",
    "                   0 & 0 & 0 & 1 \\\\\n",
    "                   1 & 0 & 0 & 0} $\n",
    "                   \n",
    "$P_{2}^-=(X \\otimes I)(H \\otimes H)CNOT(H \\otimes H)$\n",
    "\n",
    "$=$"
   ]
  },
  {
   "cell_type": "markdown",
   "metadata": {},
   "source": [
    "<h3>Task 3 (on paper)</h3>\n",
    "<a id=\"task3\"></a>\n",
    "\n",
    "Please, produce unitary matrix representations of the permutation $P_{1}^-, P_{3}^+$ and $P_{2}^-$ by using qiskit. \n",
    "\n",
    "<h3>Solution </h3>"
   ]
  },
  {
   "cell_type": "code",
   "execution_count": 1,
   "metadata": {},
   "outputs": [
    {
     "name": "stdout",
     "output_type": "stream",
     "text": [
      "Unitary matrix representation of the permutation gate we want to produce.\n",
      "[[0.+0.j 1.+0.j 0.+0.j 0.+0.j]\n",
      " [1.+0.j 0.+0.j 0.+0.j 0.+0.j]\n",
      " [0.+0.j 0.+0.j 0.+0.j 1.+0.j]\n",
      " [0.+0.j 0.+0.j 1.+0.j 0.+0.j]]\n"
     ]
    }
   ],
   "source": [
    "# import all objects and methods for quantum circuits\n",
    "from qiskit import *\n",
    "\n",
    "# define a quantum register with two qubit\n",
    "q = QuantumRegister(2,\"q\")\n",
    "# define a classical register with two bit\n",
    "c = ClassicalRegister(2,\"c\")\n",
    "# define a quantum circuit\n",
    "qc = QuantumCircuit(q,c)\n",
    "\n",
    "# apply necessary gates for the permutation gates we want to produce \n",
    "# To produce other gate, you can close and open by using the sign \"#\"\n",
    "\n",
    "#P1-\n",
    "qc.x(q[0])\n",
    "\n",
    "#P3+\n",
    "#qc.cx(q[0],q[1])\n",
    "#qc.x(q[0])\n",
    "#qc.x(q[1])\n",
    "\n",
    "#P2-\n",
    "#qc.cx(q[0],q[1])\n",
    "#qc.x(q[1])\n",
    "\n",
    "# Unitary simulator\n",
    "usimulator = Aer.get_backend('unitary_simulator')\n",
    "job = execute(qc,usimulator,shots=1)\n",
    "\n",
    "matrix = job.result().get_unitary()\n",
    "\n",
    "print('Unitary matrix representation of the permutation gate we want to produce.')\n",
    "print(matrix) "
   ]
  },
  {
   "cell_type": "code",
   "execution_count": null,
   "metadata": {},
   "outputs": [],
   "source": [
    "#\n",
    "#no more answer!\n",
    "#"
   ]
  }
 ],
 "metadata": {
  "kernelspec": {
   "display_name": "Python 3",
   "language": "python",
   "name": "python3"
  },
  "language_info": {
   "codemirror_mode": {
    "name": "ipython",
    "version": 3
   },
   "file_extension": ".py",
   "mimetype": "text/x-python",
   "name": "python",
   "nbconvert_exporter": "python",
   "pygments_lexer": "ipython3",
   "version": "3.9.1"
  }
 },
 "nbformat": 4,
 "nbformat_minor": 2
}
