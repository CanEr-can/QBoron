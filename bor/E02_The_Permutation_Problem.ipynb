{
 "cells": [
  {
   "cell_type": "markdown",
   "metadata": {},
   "source": [
    "<table  align=\"left\" width=\"100%\"> <tr>\n",
    "        <td  style=\"background-color:#ffffff;\"><a href=\"https://qsoftware.lu.lv/index.php/qworld/\" target=\"_blank\"><img src=\"..\\images\\qworld.jpg\" width=\"35%\" align=\"left\"></a></td>\n",
    "        <td  align=\"right\" style=\"background-color:#ffffff;vertical-align:bottom;horizontal-align:right\">\n",
    "            prepared by Caner ERCAN (<a href=\"http://qworld.lu.lv/index.php/qturkey/\" target=\"_blank\">QTurkey</a>)\n",
    "        </td>        \n",
    "</tr></table>"
   ]
  },
  {
   "cell_type": "markdown",
   "metadata": {},
   "source": [
    "<table width=\"100%\"><tr><td style=\"color:#bbbbbb;background-color:#ffffff;font-size:11px;font-style:italic;text-align:right;\">This cell contains some macros. If there is a problem with displaying mathematical formulas, please run this cell to load these macros. </td></tr></table>\n",
    "$ \\newcommand{\\bra}[1]{\\langle #1|} $\n",
    "$ \\newcommand{\\ket}[1]{|#1\\rangle} $\n",
    "$ \\newcommand{\\braket}[2]{\\langle #1|#2\\rangle} $\n",
    "$ \\newcommand{\\dot}[2]{ #1 \\cdot #2} $\n",
    "$ \\newcommand{\\biginner}[2]{\\left\\langle #1,#2\\right\\rangle} $\n",
    "$ \\newcommand{\\mymatrix}[2]{\\left( \\begin{array}{#1} #2\\end{array} \\right)} $\n",
    "$ \\newcommand{\\myvector}[1]{\\mymatrix{c}{#1}} $\n",
    "$ \\newcommand{\\myrvector}[1]{\\mymatrix{r}{#1}} $\n",
    "$ \\newcommand{\\mypar}[1]{\\left( #1 \\right)} $\n",
    "$ \\newcommand{\\mybigpar}[1]{ \\Big( #1 \\Big)} $\n",
    "$ \\newcommand{\\sqrttwo}{\\frac{1}{\\sqrt{2}}} $\n",
    "$ \\newcommand{\\dsqrttwo}{\\dfrac{1}{\\sqrt{2}}} $\n",
    "$ \\newcommand{\\onehalf}{\\frac{1}{2}} $\n",
    "$ \\newcommand{\\donehalf}{\\dfrac{1}{2}} $\n",
    "$ \\newcommand{\\hadamard}{ \\mymatrix{rr}{ \\sqrttwo & \\sqrttwo \\\\ \\sqrttwo & -\\sqrttwo }} $\n",
    "$ \\newcommand{\\vzero}{\\myvector{1\\\\0}} $\n",
    "$ \\newcommand{\\vone}{\\myvector{0\\\\1}} $\n",
    "$ \\newcommand{\\stateplus}{\\myvector{ \\sqrttwo \\\\  \\sqrttwo } } $\n",
    "$ \\newcommand{\\stateminus}{ \\myrvector{ \\sqrttwo \\\\ -\\sqrttwo } } $\n",
    "$ \\newcommand{\\myarray}[2]{ \\begin{array}{#1}#2\\end{array}} $\n",
    "$ \\newcommand{\\X}{ \\mymatrix{cc}{0 & 1 \\\\ 1 & 0}  } $\n",
    "$ \\newcommand{\\Z}{ \\mymatrix{rr}{1 & 0 \\\\ 0 & -1}  } $\n",
    "$ \\newcommand{\\Htwo}{ \\mymatrix{rrrr}{ \\frac{1}{2} & \\frac{1}{2} & \\frac{1}{2} & \\frac{1}{2} \\\\ \\frac{1}{2} & -\\frac{1}{2} & \\frac{1}{2} & -\\frac{1}{2} \\\\ \\frac{1}{2} & \\frac{1}{2} & -\\frac{1}{2} & -\\frac{1}{2} \\\\ \\frac{1}{2} & -\\frac{1}{2} & -\\frac{1}{2} & \\frac{1}{2} } } $\n",
    "$ \\newcommand{\\CNOT}{ \\mymatrix{cccc}{1 & 0 & 0 & 0 \\\\ 0 & 1 & 0 & 0 \\\\ 0 & 0 & 0 & 1 \\\\ 0 & 0 & 1 & 0} } $\n",
    "$ \\newcommand{\\norm}[1]{ \\left\\lVert #1 \\right\\rVert } $\n",
    "$ \\newcommand{\\pstate}[1]{ \\lceil \\mspace{-1mu} #1 \\mspace{-1.5mu} \\rfloor } $"
   ]
  },
  {
   "cell_type": "markdown",
   "metadata": {},
   "source": [
    "<h1> The Permutation Problem </h1>"
   ]
  },
  {
   "cell_type": "markdown",
   "metadata": {},
   "source": [
    "Before starting the problem, it might necessary to have or remember some intutions about reading gates or matrices. "
   ]
  },
  {
   "cell_type": "markdown",
   "metadata": {},
   "source": [
    "If you have a gate like below one, you should be able to see its action when you take a glance it. For now, we name it $E_{1}$, from the word \"easy\" and its subscript is not indicate how many dimension has it, like one in the previous notebook. \n",
    "\n",
    "$ E_{1}= \\mymatrix{rrrrr}{0 & 1 & 0 \\\\ \n",
    "                   0 & 0 & 0 \\\\\n",
    "                    0 & 0 & 0} $ \n",
    "\n",
    "When appling $E$ gate to $\\ket{1}$, it outs $\\ket{0}$ with $100\\%$ probability and it will not do anything to other input states. More clearly, \n",
    "\n",
    "$ E_{1}\\ket{0}= 0$\n",
    "$ E_{1}\\ket{1}=\\mymatrix{rrrrr}{0 & 1 & 0\\\\ \n",
    "                   0 & 0 & 0 \\\\\n",
    "                    0 & 0 & 0} \\myvector{0 \\\\ 1 \\\\ 0} = \\myvector{1 \\\\ 0 \\\\ 0}= \\ket{0}$\n",
    "$ E_{1}\\ket{2}= 0$\n",
    "\n",
    "If you do not feel yourself comfortable, you can solve the optional tasks. "
   ]
  },
  {
   "cell_type": "markdown",
   "metadata": {},
   "source": [
    "<h3>Task 1 (on paper and optional)</h3>\n",
    "\n",
    "Please, apply the $E$ gates defined below to its basis states, $E \\in \\{\\ket{0}, \\ket{1},\\ket{2}\\}$.\n",
    "\n",
    "a) $ E_{2}= \\mymatrix{rrrrr}{0 & 0 & 0 \\\\ \n",
    "                    0 & 0 & 0 \\\\\n",
    "                    1 & 0 & 0} $\n",
    "\n",
    "b) $ E_{3}= \\mymatrix{rrrrr}{0 & 0 & 0 \\\\ \n",
    "                    0 & 0 & 1 \\\\\n",
    "                    0 & 0 & 0} $\n",
    "                    \n",
    "<a href=\"E02_The_Permutation_Problem_Solutions.ipynb#task1\">click for our solution</a>"
   ]
  },
  {
   "cell_type": "markdown",
   "metadata": {},
   "source": [
    "<h3>Task 2 (on paper)</h3>\n",
    "\n",
    "Please, add these three $E$ gates together. It will be $U_{f_{2}}$  that is our one of the permutation gates.\n",
    "\n",
    "<a href=\"E02_The_Permutation_Problem_Solutions.ipynb#task2\">click for our solution</a>"
   ]
  },
  {
   "cell_type": "markdown",
   "metadata": {},
   "source": [
    "I can represent $E$ gate with a disk and a table, we work with $100\\%$ probability anyway.  <font color=\"green\"> We will continue with this representation: </font> \n",
    "\n",
    "<img src=\"../images/one_table_with_one_disk.png\" width=\"25%\" align=\"middle\">"
   ]
  },
  {
   "cell_type": "markdown",
   "metadata": {},
   "source": [
    "<h2> The Problem </h2>\n",
    "\n",
    "With this stage, we take the first step to Quantum Permutation Algorithm(QPA). Let's start to tell the problem solved by the simplest quantum algorithm until this time. \n",
    "\n",
    "If you have $3$ disk and a table divided into $9$ parts, how many different ways can you arrange? You have to put  just one disk to the same row and column. \n",
    "\n",
    "<img src=\"../images/one_table_with_three_disks.png\" width=\"40%\" align=\"middle\">\n",
    "\n",
    "It has a very simple answer, if you has participated the factorial classes in your high school, $3!=6$... Let's take a look at the figure below: \n",
    "\n",
    "<img src=\"../images/six_permutation_1.png\" width=\"60%\" align=\"middle\">\n"
   ]
  },
  {
   "cell_type": "markdown",
   "metadata": {},
   "source": [
    "Now, let's put some indices around the tables: "
   ]
  },
  {
   "cell_type": "markdown",
   "metadata": {},
   "source": [
    "<img src=\"../images/six_permutation_2.png\" width=\"60%\" align=\"middle\">"
   ]
  },
  {
   "cell_type": "markdown",
   "metadata": {},
   "source": [
    "You know how to read this tables. For example, we can say that $0\\rightarrow1$ , $1\\rightarrow2$ and $2\\rightarrow0$ for the second table. "
   ]
  },
  {
   "cell_type": "markdown",
   "metadata": {},
   "source": [
    "<h2> Cauchy's Two-Line Notation </h2>\n",
    "\n",
    "Now, we move to Cauchy's two-line notation that will be necessary later as well.\n",
    "\n",
    "Let n represents each one of the elements of our permutations and is defined as $n\\in\\mathbb{N}$. A permutation is denoted in Cauchy's two line notation as follow:\n",
    "\n",
    "$$ \\mymatrix{rrr}{0 & 1 & ... & n \\\\ \\sigma(0) & \\sigma(1) & ... & \\sigma(n)}$$\n",
    "\n",
    "Each $\\sigma_{m}(n)$ behave function-like and their job is just as the definition of function $f_{m}(x)$. \n",
    "\n",
    "For our permutations, we can use this useful notation and treat each one as a function $f_{m}(x)$ defined on the set  $x \\in \\{0,1,2\\}$. The subscript m represents each one of the indices $1,..., n!$. In addition, we can say that this function $f_{m}(x)$ is bijection i.e. $f:\\{0,1,2\\} \\rightarrow \\{0,1,2\\}$.\n",
    "\n",
    "All in all, our permutations can be symbolized 6 Cauchy's two-line functions:\n",
    "\n",
    "$$f_{1}= \\mymatrix{rrr}{0 & 1 & 2 \\\\ 0 & 1 & 2} \\mbox{ , } f_{2}= \\mymatrix{rrr}{0 & 1 & 2 \\\\ 2 & 0 & 1} \\mbox{ , }f_{3}= \\mymatrix{rrr}\n",
    "{0 & 1 & 2 \\\\ 1 & 2 & 0} $$\n",
    "\n",
    "$$f_{4}= \\mymatrix{rrr}{0 & 1 & 2 \\\\ 2 & 1 & 0} \\mbox{ , } f_{5}= \\mymatrix{rrr}{0 & 1 & 2 \\\\ 1 & 0 & 2} \\mbox{ , }f_{6}= \\mymatrix{rrr}{0 & 1 & 2 \\\\ 0 & 2 & 1} $$\n",
    "\n",
    "For the second one, we've just said its action, $012$ rearranged into $201$  and you can convince yourself for the others: "
   ]
  },
  {
   "cell_type": "markdown",
   "metadata": {},
   "source": [
    "You can see that how does these functions (or our permutation gates) behave the input arranging in the following figure easily:\n",
    "<img src=\"../images/six_permutations_3.png\" width=\"50%\" align=\"middle\">"
   ]
  },
  {
   "cell_type": "markdown",
   "metadata": {},
   "source": [
    "If I applied function $f_{2}$ to the series $(0,1,2)$, I will have the series $(2,0,1)$. And I applied same gate to this output series as input series, I will have $(1,2,0)$. And again, I will have the same input series $(0,1,2)$. So, I should do $3$ iteration to have same series for $f_{2}$ function. What about for the others? "
   ]
  },
  {
   "cell_type": "markdown",
   "metadata": {},
   "source": [
    "<h3>Task 3 (on paper)</h3>\n",
    "\n",
    "Please, do same sequence for other $f$ functions and determine how many iteration should be applied to have same input series? \n",
    "\n",
    "<a href=\"E02_The_Permutation_Problem_Solutions.ipynb#task3\">click for our solution</a>"
   ]
  },
  {
   "cell_type": "markdown",
   "metadata": {},
   "source": [
    "Now, let's create a problem with these toys. We seperate these 6 possible permutation into $2$ group: by number of exchanging they have: **even**s which are the top ones and **odd**s which are the bottom ones. And, we will call this feature the \"parity\" of table. \n",
    "\n",
    ">Even permutation that is a cyclic$^1$ change of the elements and odd permutation that is an interchange between two elements.\n",
    "\n",
    "The computational task is that if you have one of these tables or gates or operators but you do not know the positions of disks, how many query should you make to detemine the parity of the gate you have? You will see just one disk in each query. **Classicaly**, you can solve this problem with $2$ query. \n",
    "\n",
    "<font color=\"red\"> !a gif that demonstrate these six table and their parity will be here! </font> "
   ]
  },
  {
   "cell_type": "markdown",
   "metadata": {},
   "source": [
    "But **quantumly**, with $1$ query! Here is quadratic$^2$ speed-up!\n",
    "\n",
    "> You can determine the parity of any these gates by using a qutrit and making only $1$ query. Single qutrit algorithm which provides a two to one speedup than the classical counterpart. The algorithm solves this black-box problem using only one qutrit without any correlation of quantum nature. "
   ]
  },
  {
   "cell_type": "markdown",
   "metadata": {},
   "source": [
    "You can see how this weirdness becomes step by step in next notebook."
   ]
  },
  {
   "cell_type": "markdown",
   "metadata": {},
   "source": [
    "<h3>Task 4 (on paper and optional)</h3>\n",
    "\n",
    "Attention! An unscientific example...The name of person who has prepared this material is Caner Ercan. If you represent this name and surname as a vector unlike scientific and want to go and come between this name and surname, how matrices are needed? \n",
    "\n",
    "$\\myvector{C\\\\A\\\\N\\\\E\\\\R} \\mbox{ , } \\myvector{E\\\\R\\\\C\\\\A\\\\N}$\n",
    "\n",
    "\n",
    "<a href=\"E02_The_Permutation_Problem_Solutions.ipynb#task4\">click for our solution</a>"
   ]
  },
  {
   "cell_type": "markdown",
   "metadata": {},
   "source": [
    "---\n",
    "**[1] Cyclic means**\n",
    "\n",
    "**[2] Quadratic means the complexity is the square root of n: $O(\\sqrt n)$. Reverse searching a function on a conventional computer is linear: $O(n)$**"
   ]
  }
 ],
 "metadata": {
  "kernelspec": {
   "display_name": "Python 3",
   "language": "python",
   "name": "python3"
  },
  "language_info": {
   "codemirror_mode": {
    "name": "ipython",
    "version": 3
   },
   "file_extension": ".py",
   "mimetype": "text/x-python",
   "name": "python",
   "nbconvert_exporter": "python",
   "pygments_lexer": "ipython3",
   "version": "3.9.1"
  }
 },
 "nbformat": 4,
 "nbformat_minor": 2
}
