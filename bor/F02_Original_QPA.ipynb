{
 "cells": [
  {
   "cell_type": "markdown",
   "metadata": {},
   "source": [
    "<table  align=\"left\" width=\"100%\"> <tr>\n",
    "        <td  style=\"background-color:#ffffff;\"><a href=\"https://qsoftware.lu.lv/index.php/qworld/\" target=\"_blank\"><img src=\"..\\images\\qworld.jpg\" width=\"35%\" align=\"left\"></a></td>\n",
    "        <td  align=\"right\" style=\"background-color:#ffffff;vertical-align:bottom;horizontal-align:right\">\n",
    "            prepared by Caner ERCAN (<a href=\"http://qworld.lu.lv/index.php/qturkey/\" target=\"_blank\">QTurkey</a>)\n",
    "        </td>        \n",
    "</tr></table>"
   ]
  },
  {
   "cell_type": "markdown",
   "metadata": {},
   "source": [
    "<table width=\"100%\"><tr><td style=\"color:#bbbbbb;background-color:#ffffff;font-size:11px;font-style:italic;text-align:right;\">This cell contains some macros. If there is a problem with displaying mathematical formulas, please run this cell to load these macros. </td></tr></table>\n",
    "$ \\newcommand{\\bra}[1]{\\langle #1|} $\n",
    "$ \\newcommand{\\ket}[1]{|#1\\rangle} $\n",
    "$ \\newcommand{\\braket}[2]{\\langle #1|#2\\rangle} $\n",
    "$ \\newcommand{\\dot}[2]{ #1 \\cdot #2} $\n",
    "$ \\newcommand{\\biginner}[2]{\\left\\langle #1,#2\\right\\rangle} $\n",
    "$ \\newcommand{\\mymatrix}[2]{\\left( \\begin{array}{#1} #2\\end{array} \\right)} $\n",
    "$ \\newcommand{\\myvector}[1]{\\mymatrix{c}{#1}} $\n",
    "$ \\newcommand{\\myrvector}[1]{\\mymatrix{r}{#1}} $\n",
    "$ \\newcommand{\\mypar}[1]{\\left( #1 \\right)} $\n",
    "$ \\newcommand{\\mybigpar}[1]{ \\Big( #1 \\Big)} $\n",
    "$ \\newcommand{\\sqrttwo}{\\frac{1}{\\sqrt{2}}} $\n",
    "$ \\newcommand{\\dsqrttwo}{\\dfrac{1}{\\sqrt{2}}} $\n",
    "$ \\newcommand{\\onehalf}{\\frac{1}{2}} $\n",
    "$ \\newcommand{\\donehalf}{\\dfrac{1}{2}} $\n",
    "$ \\newcommand{\\hadamard}{ \\mymatrix{rr}{ \\sqrttwo & \\sqrttwo \\\\ \\sqrttwo & -\\sqrttwo }} $\n",
    "$ \\newcommand{\\vzero}{\\myvector{1\\\\0}} $\n",
    "$ \\newcommand{\\vone}{\\myvector{0\\\\1}} $\n",
    "$ \\newcommand{\\stateplus}{\\myvector{ \\sqrttwo \\\\  \\sqrttwo } } $\n",
    "$ \\newcommand{\\stateminus}{ \\myrvector{ \\sqrttwo \\\\ -\\sqrttwo } } $\n",
    "$ \\newcommand{\\myarray}[2]{ \\begin{array}{#1}#2\\end{array}} $\n",
    "$ \\newcommand{\\X}{ \\mymatrix{cc}{0 & 1 \\\\ 1 & 0}  } $\n",
    "$ \\newcommand{\\Z}{ \\mymatrix{rr}{1 & 0 \\\\ 0 & -1}  } $\n",
    "$ \\newcommand{\\Htwo}{ \\mymatrix{rrrr}{ \\frac{1}{2} & \\frac{1}{2} & \\frac{1}{2} & \\frac{1}{2} \\\\ \\frac{1}{2} & -\\frac{1}{2} & \\frac{1}{2} & -\\frac{1}{2} \\\\ \\frac{1}{2} & \\frac{1}{2} & -\\frac{1}{2} & -\\frac{1}{2} \\\\ \\frac{1}{2} & -\\frac{1}{2} & -\\frac{1}{2} & \\frac{1}{2} } } $\n",
    "$ \\newcommand{\\CNOT}{ \\mymatrix{cccc}{1 & 0 & 0 & 0 \\\\ 0 & 1 & 0 & 0 \\\\ 0 & 0 & 0 & 1 \\\\ 0 & 0 & 1 & 0} } $\n",
    "$ \\newcommand{\\norm}[1]{ \\left\\lVert #1 \\right\\rVert } $\n",
    "$ \\newcommand{\\pstate}[1]{ \\lceil \\mspace{-1mu} #1 \\mspace{-1.5mu} \\rfloor } $"
   ]
  },
  {
   "cell_type": "markdown",
   "metadata": {},
   "source": [
    "<h1> Original QPA </h1>"
   ]
  },
  {
   "cell_type": "markdown",
   "metadata": {},
   "source": [
    "<img src=\"../images/qubit_as_wire.png\" width=\"70%\" align=\"middle\">"
   ]
  },
  {
   "cell_type": "markdown",
   "metadata": {},
   "source": [
    "<img src=\"../images/circuit_for_ququarts.png\" width=\"80%\" align=\"middle\">"
   ]
  },
  {
   "cell_type": "markdown",
   "metadata": {},
   "source": [
    "$$\n",
    "P_m^{\\pm}= \\sum_{k=0}^{d-1} \\ket{(m{\\pm}k)_{\\mod(4)}}\\bra{k} ~~~~~(1)\n",
    "$$"
   ]
  },
  {
   "cell_type": "markdown",
   "metadata": {},
   "source": [
    "$$\\ket{j} = \\ket{01} \\equiv \\ket{1}$$ \n",
    "$$\n",
    "QFT\\ket{j} = \\ket{\\psi_1} = \\frac{1}{\\sqrt{d}}\\sum_{k=0}^{d-1} e^{i\\frac{2\\pi j k }{d}}\\ket{k} ~~~~~~(2)\n",
    "$$"
   ]
  },
  {
   "cell_type": "markdown",
   "metadata": {},
   "source": [
    "$$\n",
    "\\ket{\\psi_2^\\pm} = P_m^{\\pm}QFT\\ket{j} = \\frac{1}{\\sqrt{d}}\\sum_{k=0}^{d-1} e^{i\\frac{2\\pi j k }{d}}\\ket{(m{\\pm}k)_{\\mod(4)}} ~~~~~(3)\n",
    "$$"
   ]
  },
  {
   "cell_type": "markdown",
   "metadata": {},
   "source": [
    "$$\n",
    "\\ket{\\psi_3^+} = QFT^{\\dagger}P_m^{+}QFT\\ket{j} = e^{i\\frac{2\\pi m j }{d}}\\ket{j}~~~~~(4)\n",
    "$$"
   ]
  },
  {
   "cell_type": "markdown",
   "metadata": {},
   "source": [
    "$$\n",
    "\\ket{\\psi_3^-} = QFT^{\\dagger}P_m^{-}QFT\\ket{j} = e^{-i\\frac{2\\pi (d-j)m}{d}}\\ket{(d-j)_{\\mod(d)}}~~~~~(5)\n",
    "$$"
   ]
  },
  {
   "cell_type": "markdown",
   "metadata": {},
   "source": [
    "$$ Q_{FT} = \\frac{1}{2}\\mymatrix{rrrr}{1 & 1 & 1 & 1\\\\ \n",
    "                   1 & i & -1 & -i \\\\ \n",
    "                   1 & -1 & 1 & -1 \\\\\n",
    "                   1 & -i & -1 & i} \\mbox{ , }  Q_{FT}^\\dagger =\\frac{1}{2}\\mymatrix{rrrr}{1 & 1 & 1 & 1\\\\ \n",
    "                   1 & -i & -1 & i \\\\ \n",
    "                   1 & -1 & 1 & -1 \\\\\n",
    "                   1 & i & -1 & -i}$$"
   ]
  },
  {
   "cell_type": "markdown",
   "metadata": {},
   "source": [
    "<h2>Summation Method</h2>\n",
    "\n",
    "\n",
    "$QFT^{\\dagger} P^{+}_2 QFT \\ket{01} = what?$"
   ]
  },
  {
   "cell_type": "markdown",
   "metadata": {},
   "source": [
    "To find answer of this question, the equations given above can be used. For now, I'm beginning to find the $\\ket{\\psi_2}$ by using the equation (3) :\n",
    "\n",
    "$\\ket{\\psi_2^+} \n",
    "= P_2^+QFT\\ket{01} \n",
    "= P_2^+QFT\\ket{1} \n",
    "= \\frac{1}{\\sqrt{4}}\\sum_{k=0}^{4-1} e^{i\\frac{2\\pi 1 k } {4}}\\ket{(2{+}k)_{\\mod(4)}} \\\\\n",
    "= \\frac{1}{2}\\sum_{k=0}^{3} e^{i\\frac{\\pi k }{2}}\\ket{(2{+}k)_{\\mod(4)}} \n",
    "= \\frac{1}{2}(e^{i\\frac{\\pi 0 }{2}}\\ket{(1{+}0)_{\\mod(4)}}+ e^{i\\frac{\\pi 1 }{2}}\\ket{(2{+}1)_{\\mod(4)}} + e^{i\\frac{\\pi 2 }{2}}\\ket{(2{+}2)_{\\mod(4)}} + e^{i\\frac{\\pi 3 }{2}}\\ket{(2{+}3)_{\\mod(4)}}) \\\\\n",
    "= \\frac{1}{2}(\\ket{2} + e^{i\\frac{\\pi }{2}}\\ket{3} + e^{i\\frac{\\pi 2 }{2}}\\ket{0} + e^{i\\frac{\\pi 3 }{2}}\\ket{1} )$"
   ]
  },
  {
   "cell_type": "markdown",
   "metadata": {},
   "source": [
    "$\\ket{\\psi_3^+}\n",
    "= QFT^{\\dagger} P^{+}_2 QFT \\ket{01} \n",
    "= \\frac{1}{2}(QFT^{\\dagger}\\ket{2} + e^{i\\frac{\\pi}{2}}QFT^{\\dagger}\\ket{3} + e^{i\\frac{\\pi 2 }{2}}QFT^{\\dagger}\\ket{0} + e^{\\frac{i\\pi 3 }{2}}QFT^{\\dagger}\\ket{1} ) \\\\\n",
    "= \\frac{1}{2}(\\frac{1}{2}\\sum_{k=0}^{3} e^{i\\frac{2\\pi 2 k }{4}}\\ket{k}+\\frac{1}{2}e^{i\\frac{\\pi }{2}}\\sum_{k=0}^{3} e^{i\\frac{2\\pi 3 k }{4}}\\ket{k}+\\frac{1}{2}e^{i\\frac{\\pi 2 }{2}}\\sum_{k=0}^{3} e^{i\\frac{2\\pi 0 k }{4}}\\ket{k}+\\frac{1}{2}e^{i\\frac{\\pi 3 }{2}}\\sum_{k=0}^{3}e^{i\\frac{2\\pi 1 k }{4}}\\ket{k}) \\\\\n",
    "= \\frac{1}{4}[\\ket{0} + e^{-i \\pi}\\ket{1} + e^{-i 2\\pi}\\ket{2} + e^{-i 3\\pi}\\ket{3}\n",
    "+ e^{i\\frac{2\\pi}{4}}(\\ket{0} + e^{-i\\frac{2\\pi 3}{4}}\\ket{1} + e^{-i\\frac{2\\pi 2 3}{4}}\\ket{2} + e^{-i\\frac{2\\pi 3 3}{4}}\\ket{3})\n",
    "+ e^{i\\pi}(\\ket{0} + \\ket{1} + \\ket{2} + \\ket{3})\n",
    "+ e^{i\\frac{3\\pi}{2}}(\\ket{0} + e^{-i\\frac{2\\pi}{4}}\\ket{1} + e^{-i\\frac{2\\pi 2}{4}}\\ket{2} + e^{-i\\frac{2\\pi 3}{4}}\\ket{3})] \\\\\n",
    "= \\frac{1}{4}[\\ket{0} + e^{-i\\pi}\\ket{1} + e^{-i 2\\pi}\\ket{2} + e^{-i 3\\pi}\\ket{3}\n",
    "+ e^{i\\frac{2\\pi}{4}}\\ket{0} + e^{-i 3\\pi}\\ket{1} + e^{-i\\frac{5\\pi}{2}}\\ket{2} + e^{-i 4\\pi}\\ket{3}\n",
    "+ e^{i \\pi}\\ket{0} + e^{i \\pi}\\ket{1} + e^{i \\pi}\\ket{2} + e^{i \\pi}\\ket{3}\n",
    "+ e^{i \\frac{\\pi 3}{2}}\\ket{0} + e^{i \\pi}\\ket{1} + e^{i \\frac{\\pi}{2}}\\ket{2} + \\ket{3}] \\\\\n",
    "= \\frac{1}{4}[\\ket{0} - \\ket{1} + \\ket{2} -\\ket{3} + i\\ket{0} -\\ket{1} -i\\ket{2} + \\ket{3} -\\ket{0} -\\ket{1} -\\ket{2} -\\ket{3} -i\\ket{0} -\\ket{1} + i\\ket{2} + \\ket{3}] \\\\\n",
    "= \\frac{1}{4}[-4\\ket{1}] = -\\ket{01}$"
   ]
  },
  {
   "cell_type": "markdown",
   "metadata": {},
   "source": [
    "If you look at the equation (4), you will see the equality such below: \n",
    "$\\ket{\\psi_3^+} = e^{i\\frac{2\\pi j m}{d}}\\ket{j} = e^{i\\frac{2\\pi 1 2}{4}}\\ket{1} = e^{i\\pi}\\ket{1} \\equiv -\\ket{01}$\n",
    "\n",
    "Namely, we can open and implement the equations (3) and (4)."
   ]
  },
  {
   "cell_type": "markdown",
   "metadata": {},
   "source": [
    "<h3>Task 1</h3>\n",
    "\n",
    "Please, implement the following iteration by using summation method: \n",
    "\n",
    "$QFT^{\\dagger} P^{-}_0 QFT \\ket{01}=?$\n",
    "\n",
    "<a href=\"F02_Original_QPA_Solutions.ipynb#task1\">click for our solution</a>"
   ]
  },
  {
   "cell_type": "markdown",
   "metadata": {},
   "source": [
    "<h2>Matrix Method</h2>"
   ]
  },
  {
   "cell_type": "markdown",
   "metadata": {},
   "source": [
    "Matrix method actually is serial version summation method. "
   ]
  },
  {
   "cell_type": "markdown",
   "metadata": {},
   "source": [
    "$QFT^{\\dagger} P^{-}_0 QFT \\ket{11}$\n",
    "\n",
    "$=\\frac{1}{2}\\mymatrix{rrrr}{1 & 1 & 1 & 1\\\\ \n",
    "                   1 & -i & -1 & i \\\\ \n",
    "                   1 & -1 & 1 & -1 \\\\\n",
    "                   1 & i & -1 & -i} \\mymatrix{rrrr}{0 & 1 & 0 & 0\\\\ \n",
    "                   0 & 0 & 1 & 0 \\\\ \n",
    "                   0 & 0 & 0 & 1 \\\\\n",
    "                   1 & 0 & 0 & 0} \\frac{1}{2}\\mymatrix{rrrr}{1 & 1 & 1 & 1\\\\ \n",
    "                   1 & i & -1 & -i \\\\ \n",
    "                   1 & -1 & 1 & -1 \\\\\n",
    "                   1 & -i & -1 & i}\\myvector{0 \\\\ 0 \\\\ 0 \\\\ 1} = \\frac{1}{4}\\mymatrix{rrrr}{1 & 1 & 1 & 1\\\\ \n",
    "                   1 & -i & -1 & i \\\\ \n",
    "                   1 & -1 & 1 & -1 \\\\\n",
    "                   1 & i & -1 & -i} \\mymatrix{rrrr}{0 & 1 & 0 & 0\\\\ \n",
    "                   0 & 0 & 1 & 0 \\\\ \n",
    "                   0 & 0 & 0 & 1 \\\\\n",
    "                   1 & 0 & 0 & 0}\\myvector{1 \\\\ -i  \\\\ -1 \\\\ i}\n",
    "= \\frac{1}{4}\\mymatrix{rrrr}{1 & 1 & 1 & 1\\\\ \n",
    "                   1 & -i & -1 & i \\\\ \n",
    "                   1 & -1 & 1 & -1 \\\\\n",
    "                   1 & i & -1 & -i}\\myvector{-i  \\\\ -1 \\\\ i \\\\ 1}=\\frac{1}{4}\\myvector{-i -1 +i +1 \\\\ -i +i -i +i \\\\-i +1 -1 +i   \\\\ -i -i -i -i} = -i\\myvector{0 \\\\ 0 \\\\ 0 \\\\ 1} =-i\\ket{11}$"
   ]
  },
  {
   "cell_type": "markdown",
   "metadata": {},
   "source": [
    "<h3>Task 2</h3>\n",
    "\n",
    "Please, implement the following iteration by using matrix method and compare with the result from the summation method: \n",
    "\n",
    "$QFT^{\\dagger} P^{+}_2 QFT \\ket{01}=?$\n",
    "\n",
    "<a href=\"F02_Original_QPA_Solutions.ipynb#task2\">click for our solution</a>"
   ]
  },
  {
   "cell_type": "markdown",
   "metadata": {},
   "source": [
    "> Because there are $4$ different input and $8$ different permutation for four dimension, totally, you can do $32$ different iteration by using these two methods."
   ]
  },
  {
   "cell_type": "markdown",
   "metadata": {},
   "source": [
    "<h2> Original QPA by Qiskit</h2>\n"
   ]
  },
  {
   "cell_type": "code",
   "execution_count": 18,
   "metadata": {},
   "outputs": [
    {
     "data": {
      "text/plain": [
       "<qiskit.circuit.instructionset.InstructionSet at 0x2d2f603b520>"
      ]
     },
     "execution_count": 18,
     "metadata": {},
     "output_type": "execute_result"
    }
   ],
   "source": [
    "# import all necessary objects and methods for quantum circuits\n",
    "from qiskit import *\n",
    "from numpy import pi\n",
    "\n",
    "# define a quantum register with a single qubit\n",
    "q = QuantumRegister(2,\"q\")\n",
    "# define a classical register with a single bit\n",
    "c = ClassicalRegister(2,\"c\")\n",
    "# define a quantum circuit\n",
    "qc = QuantumCircuit(q,c)\n",
    "\n",
    "\n",
    "qc.h(q[0])\n",
    "qc.h(q[1])\n",
    "qc.s(q[0])\n",
    "qc.z(q[1])\n",
    "#qc.z(q[0])\n",
    "qc.barrier()\n",
    "\n",
    "#qc.h(q[1])\n",
    "#qc.h(q[0])\n",
    "#qc.cx(q[0],q[1])\n",
    "#qc.h(q[1])\n",
    "#qc.h(q[0])\n",
    "qc.barrier()\n",
    "\n",
    "qc.cx(q[1],q[0])\n",
    "qc.h(q[1])\n",
    "qc.h(q[0])\n",
    "qc.cx(q[1],q[0])\n",
    "qc.h(q[1])\n",
    "qc.h(q[0])\n",
    "qc.cx(q[1],q[0])\n",
    "\n",
    "qc.h(q[0])\n",
    "qc.cx(q[1],q[0])\n",
    "qc.t(q[0])\n",
    "qc.cx(q[1],q[0])\n",
    "qc.tdg(q[0])\n",
    "qc.tdg(q[1])\n",
    "qc.h(q[1])\n",
    "qc.barrier()"
   ]
  },
  {
   "cell_type": "code",
   "execution_count": 19,
   "metadata": {
    "scrolled": true
   },
   "outputs": [
    {
     "name": "stdout",
     "output_type": "stream",
     "text": [
      "{'01': 1000}\n"
     ]
    }
   ],
   "source": [
    "qc.measure(q,c)\n",
    "job = execute(qc,Aer.get_backend('qasm_simulator'),shots=1000)\n",
    "counts = job.result().get_counts(qc)   \n",
    "print(counts)"
   ]
  },
  {
   "cell_type": "code",
   "execution_count": 20,
   "metadata": {
    "scrolled": true
   },
   "outputs": [
    {
     "data": {
      "image/png": "[encoded data removed]",
      "text/plain": [
       "<Figure size 1170.05x204.68 with 1 Axes>"
      ]
     },
     "execution_count": 20,
     "metadata": {},
     "output_type": "execute_result"
    }
   ],
   "source": [
    "qc.draw(\"mpl\")"
   ]
  },
  {
   "cell_type": "code",
   "execution_count": 260,
   "metadata": {
    "scrolled": true
   },
   "outputs": [
    {
     "data": {
      "text/plain": [
       "<qiskit.circuit.instructionset.InstructionSet at 0x1b5bf91d820>"
      ]
     },
     "execution_count": 260,
     "metadata": {},
     "output_type": "execute_result"
    }
   ],
   "source": [
    "#P0+\n",
    "\n",
    "\n",
    "#P1+\n",
    "qc.cx(q[0],q[1])\n",
    "qc.x(q[0])\n",
    "\n",
    "#P2+\n",
    "qc.x(q[1])\n",
    "\n",
    "#P3+\n",
    "qc.cx(q[0],q[1])\n",
    "qc.x(q[0])\n",
    "qc.x(q[1])\n",
    "\n",
    "#P3-\n",
    "qc.x(q[0])\n",
    "qc.x(q[1])\n",
    "\n",
    "#P2-\n",
    "qc.cx(q[0],q[1])\n",
    "qc.x(q[1])\n",
    "\n",
    "#P1-\n",
    "qc.x(q[0])\n",
    "\n",
    "#P0-\n",
    "qc.cx(q[0],q[1])"
   ]
  }
 ],
 "metadata": {
  "kernelspec": {
   "display_name": "Python 3",
   "language": "python",
   "name": "python3"
  },
  "language_info": {
   "codemirror_mode": {
    "name": "ipython",
    "version": 3
   },
   "file_extension": ".py",
   "mimetype": "text/x-python",
   "name": "python",
   "nbconvert_exporter": "python",
   "pygments_lexer": "ipython3",
   "version": "3.9.1"
  }
 },
 "nbformat": 4,
 "nbformat_minor": 2
}
