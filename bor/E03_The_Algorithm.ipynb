{
 "cells": [
  {
   "cell_type": "markdown",
   "metadata": {},
   "source": [
    "<table  align=\"left\" width=\"100%\"> <tr>\n",
    "        <td  style=\"background-color:#ffffff;\"><a href=\"https://qsoftware.lu.lv/index.php/qworld/\" target=\"_blank\"><img src=\"..\\images\\qworld.jpg\" width=\"35%\" align=\"left\"></a></td>\n",
    "        <td  align=\"right\" style=\"background-color:#ffffff;vertical-align:bottom;horizontal-align:right\">\n",
    "            prepared by Caner ERCAN (<a href=\"http://qworld.lu.lv/index.php/qturkey/\" target=\"_blank\">QTurkey</a>)\n",
    "        </td>        \n",
    "</tr></table>"
   ]
  },
  {
   "cell_type": "markdown",
   "metadata": {},
   "source": [
    "<table width=\"100%\"><tr><td style=\"color:#bbbbbb;background-color:#ffffff;font-size:11px;font-style:italic;text-align:right;\">This cell contains some macros. If there is a problem with displaying mathematical formulas, please run this cell to load these macros. </td></tr></table>\n",
    "$ \\newcommand{\\bra}[1]{\\langle #1|} $\n",
    "$ \\newcommand{\\ket}[1]{|#1\\rangle} $\n",
    "$ \\newcommand{\\braket}[2]{\\langle #1|#2\\rangle} $\n",
    "$ \\newcommand{\\dot}[2]{ #1 \\cdot #2} $\n",
    "$ \\newcommand{\\biginner}[2]{\\left\\langle #1,#2\\right\\rangle} $\n",
    "$ \\newcommand{\\mymatrix}[2]{\\left( \\begin{array}{#1} #2\\end{array} \\right)} $\n",
    "$ \\newcommand{\\myvector}[1]{\\mymatrix{c}{#1}} $\n",
    "$ \\newcommand{\\myrvector}[1]{\\mymatrix{r}{#1}} $\n",
    "$ \\newcommand{\\mypar}[1]{\\left( #1 \\right)} $\n",
    "$ \\newcommand{\\mybigpar}[1]{ \\Big( #1 \\Big)} $\n",
    "$ \\newcommand{\\sqrttwo}{\\frac{1}{\\sqrt{2}}} $\n",
    "$ \\newcommand{\\dsqrttwo}{\\dfrac{1}{\\sqrt{2}}} $\n",
    "$ \\newcommand{\\onehalf}{\\frac{1}{2}} $\n",
    "$ \\newcommand{\\donehalf}{\\dfrac{1}{2}} $\n",
    "$ \\newcommand{\\hadamard}{ \\mymatrix{rr}{ \\sqrttwo & \\sqrttwo \\\\ \\sqrttwo & -\\sqrttwo }} $\n",
    "$ \\newcommand{\\vzero}{\\myvector{1\\\\0}} $\n",
    "$ \\newcommand{\\vone}{\\myvector{0\\\\1}} $\n",
    "$ \\newcommand{\\stateplus}{\\myvector{ \\sqrttwo \\\\  \\sqrttwo } } $\n",
    "$ \\newcommand{\\stateminus}{ \\myrvector{ \\sqrttwo \\\\ -\\sqrttwo } } $\n",
    "$ \\newcommand{\\myarray}[2]{ \\begin{array}{#1}#2\\end{array}} $\n",
    "$ \\newcommand{\\X}{ \\mymatrix{cc}{0 & 1 \\\\ 1 & 0}  } $\n",
    "$ \\newcommand{\\Z}{ \\mymatrix{rr}{1 & 0 \\\\ 0 & -1}  } $\n",
    "$ \\newcommand{\\Htwo}{ \\mymatrix{rrrr}{ \\frac{1}{2} & \\frac{1}{2} & \\frac{1}{2} & \\frac{1}{2} \\\\ \\frac{1}{2} & -\\frac{1}{2} & \\frac{1}{2} & -\\frac{1}{2} \\\\ \\frac{1}{2} & \\frac{1}{2} & -\\frac{1}{2} & -\\frac{1}{2} \\\\ \\frac{1}{2} & -\\frac{1}{2} & -\\frac{1}{2} & \\frac{1}{2} } } $\n",
    "$ \\newcommand{\\CNOT}{ \\mymatrix{cccc}{1 & 0 & 0 & 0 \\\\ 0 & 1 & 0 & 0 \\\\ 0 & 0 & 0 & 1 \\\\ 0 & 0 & 1 & 0} } $\n",
    "$ \\newcommand{\\norm}[1]{ \\left\\lVert #1 \\right\\rVert } $\n",
    "$ \\newcommand{\\pstate}[1]{ \\lceil \\mspace{-1mu} #1 \\mspace{-1.5mu} \\rfloor } $"
   ]
  },
  {
   "cell_type": "markdown",
   "metadata": {},
   "source": [
    "<h2> The Algorithm </h2>"
   ]
  },
  {
   "cell_type": "markdown",
   "metadata": {},
   "source": [
    "How simple can a quantum algorithm be? Or, what is the smallest quantum circuit that can be solve a problem faster than its corresponding classical algorithm? That is what is QPA! With this notebook, we are moving to the Quantum Permutation Algoritm(QPA) itself. It's also known as Gedik's Algorithm or Parity Determining Algorithm. The algorithm does not use entanglement as a source unlike the other quantum algorithms. It just use the permutation gates but does not takes a quantum basis state as a input, takes superposition! \n",
    "\n",
    "Even tough the problem that the algorithm solves is not crucial, the algorithm is interesting in that it makes use of a single qutrit, which means that neither entanglement nor any other correlation plays a role. The computational task is to determine the parity(evenness or oddness) of the black-box. The black-box maps 3 possible inputs to 3 possible outputs after a permutation.\n",
    "\n",
    "<img src=\"../images/a_circuit_with_uft_without_input.png\" width=\"75%\" align=\"middle\">\n",
    "\n",
    "Here is the circuit of QPA. As you can see, this is the simplest quantum algorithm, for now... An input comes in, applied some operations, and an output comes out. This output will say us that the parity of the permutation gate applied to input state."
   ]
  },
  {
   "cell_type": "markdown",
   "metadata": {},
   "source": [
    "Let's seperate to 3 parts this circuit and take a glance gate by gate. "
   ]
  },
  {
   "cell_type": "markdown",
   "metadata": {},
   "source": [
    "<img src=\"../images/a_circuit_parted.png\" width=\"60%\" align=\"middle\">"
   ]
  },
  {
   "cell_type": "markdown",
   "metadata": {},
   "source": [
    "\n",
    "> Why we use the letter $U$ for gates in quantum computing in general is that they obey the unitarity condition, they are unitary operators: $U_{f_{k}}^\\dagger U_{f_{k}}=I$  \n",
    "\n",
    "The first gate is $U_{FT}$ that is Quantum Fourier Transform in $3$ dimension to have a superposition from a basis state. You can see what does it(or its inverse) like in the following: \n",
    "\n",
    "$$ U_{FT} = \\frac{1}{\\sqrt{3}}\\mymatrix{rrr}{1 & 1 & 1\\\\ \n",
    "                   1 & e^{i\\frac{2\\pi}{3}} & e^{-i\\frac{2\\pi}{3}} \\\\ \n",
    "                   1 & e^{-i\\frac{2\\pi}{3}} & e^{i\\frac{2\\pi}{3}}} \\mbox{ , } U_{FT}^\\dagger = \\frac{1}{\\sqrt{3}}\\mymatrix{rrr}{1 & 1 & 1\\\\ 1 & e^{-i\\frac{2\\pi}{3}} & e^{i\\frac{2\\pi}{3}} \\\\ \n",
    "                   1 & e^{i\\frac{2\\pi}{3}} & e^{-i\\frac{2\\pi}{3}}}$$\n",
    "                   \n",
    "It transforms the basis state like $\\ket{1}$ to the superposition that is the quantum feature provides speed-up we need.\n",
    "\n",
    "For example, \n",
    "\n",
    "$  U_{FT}\\ket{1}=\\frac{1}{\\sqrt{3}}\\mymatrix{rrr}{1 & 1 & 1\\\\ \n",
    "                   1 & e^{i\\frac{2\\pi}{3}} & e^{-i\\frac{2\\pi}{3}} \\\\ \n",
    "                   1 & e^{-i\\frac{2\\pi}{3}} & e^{i\\frac{2\\pi}{3}}}\\myvector{0 \\\\ 1 \\\\ 0} = \\frac{1}{\\sqrt{3}}\\myvector{1 \\\\ e^{i\\frac{2\\pi}{3}} \\\\ e^{-i\\frac{2\\pi}{3}}}=\\ket{\\Psi_{2}} $, or\n",
    "\n",
    "$  U_{FT}\\ket{2}= \\frac{1}{\\sqrt{3}}\\mymatrix{rrr}{1 & 1 & 1\\\\ \n",
    "                   1 & e^{i\\frac{2\\pi}{3}} & e^{-i\\frac{2\\pi}{3}} \\\\ \n",
    "                   1 & e^{-i\\frac{2\\pi}{3}} & e^{i\\frac{2\\pi}{3}}}\\myvector{0 \\\\ 0 \\\\ 1} = \\frac{1}{\\sqrt{3}}\\myvector{1 \\\\ e^{-i\\frac{2\\pi}{3}} \\\\ e^{i\\frac{2\\pi}{3}}} =\\ket{\\Psi_{5}}$.\n",
    "                   \n",
    "<img src=\"../images/a_circuit_with_only_uft.png\" width=\"50%\" align=\"middle\">\n",
    "\n",
    "Because we will also use later, I give some names to these outputs. When you need them, you can easily check these labels below: \n",
    "\n",
    "$$\\ket{\\Psi_{0}}=\\frac{1}{\\sqrt{3}}\\myvector{1 \\\\ 1 \\\\ 1}$$\n",
    "\n",
    "\n",
    "$$ \\ket{\\Psi_{1}}=\\frac{1}{\\sqrt{3}}\\myvector{1 \\\\ e^{i\\frac{2\\pi}{3}} \\\\ e^{-i\\frac{2\\pi}{3}}} \\mbox{ , }\n",
    "\\ket{\\Psi_{2}}= \\frac{1}{\\sqrt{3}}\\myvector{e^{-i\\frac{2\\pi}{3}} \\\\ 1 \\\\ e^{i\\frac{2\\pi}{3}}}\\mbox{ , } \n",
    "\\ket{\\Psi_{3}}=\\frac{1}{\\sqrt{3}}\\myvector{e^{i\\frac{2\\pi}{3}} \\\\  e^{-i\\frac{2\\pi}{3}} \\\\ 1}  $$\n",
    "\n",
    "$$ \\ket{\\Psi_{4}}=\\frac{1}{\\sqrt{3}}\\myvector{e^{-i\\frac{2\\pi}{3}} \\\\ e^{i\\frac{2\\pi}{3}} \\\\ 1} \\mbox{ , }\n",
    "\\ket{\\Psi_{5}}=\\frac{1}{\\sqrt{3}}\\myvector{e^{i\\frac{2\\pi}{3}} \\\\ 1 \\\\e^{-i\\frac{2\\pi}{3}}} \\mbox{ , } \n",
    "\\ket{\\Psi_{6}}=\\frac{1}{\\sqrt{3}}\\myvector{1 \\\\ e^{-i\\frac{2\\pi}{3}} \\\\ e^{i\\frac{2\\pi}{3}}} $$"
   ]
  },
  {
   "cell_type": "markdown",
   "metadata": {},
   "source": [
    "The second gate of the QPA algorithm is one of our permutation gates $U_{f_{k}}$ for $k=1,2,3,4,5,6$. Their matrix forms are shown below: \n",
    "\n",
    "$${U_f}_1=\\mymatrix{rrrrr}{1 & 0 & 0\\\\ \n",
    "                   0 & 1 & 0 \\\\\n",
    "                    0 & 0 & 1} \\mbox{ , }\n",
    "{U_f}_2=\\mymatrix{rrrrr}{0 & 0 & 1\\\\ \n",
    "                   1 & 0 & 0 \\\\\n",
    "                    0 & 1 & 0}\\mbox{ , }\n",
    "{U_f}_3=\\mymatrix{rrrrr}{0 & 1 & 0\\\\ \n",
    "                   0 & 0 & 1 \\\\\n",
    "                    1 & 0 & 0}$$\n",
    "\n",
    "$${U_f}_4=\\mymatrix{rrrrr}{0 & 0 & 1\\\\ \n",
    "                   0 & 1 & 0 \\\\\n",
    "                    1 & 0 & 0}\\mbox{ , }\n",
    "{U_f}_5=\\mymatrix{rrrrr}{0 & 1 & 0\\\\ \n",
    "                   1 & 0 & 0 \\\\\n",
    "                    0 & 0 & 1}\\mbox{ , }\n",
    "{U_f}_6=\\mymatrix{rrrrr}{1 & 0 & 0\\\\ \n",
    "                   0 & 0 & 1 \\\\\n",
    "                    0 & 1 & 0}$$\n",
    "                    \n",
    "The top ones are evens which are cyclic changes of the elements and the bottom ones are odds which are interchanges between two elements.\n",
    "\n",
    "<img src=\"../images/a_circuit_with_only_ufk.jpg\" width=\"50%\" align=\"middle\">"
   ]
  },
  {
   "cell_type": "markdown",
   "metadata": {},
   "source": [
    "The gate takes a superposed state and convert to a another superposed state but with different phases, that's all. You can convince this in the following operations. For example, you applied $U_{f_{2}}$ that is one of even permutations to $\\ket{\\Psi_{1}}$: \n",
    "\n",
    "$U_{FT}\\ket{1}=\\ket{\\Psi_{1}}=\\frac{1}{\\sqrt{3}}\\myvector{1 \\\\ e^{i\\frac{2\\pi}{3}} \\\\ e^{-i\\frac{2\\pi}{3}}}=\\frac{\\ket{0}+e^{i\\frac{2\\pi}{3}}\\ket{1}+e^{-i\\frac{2\\pi}{3}}\\ket{2}}{\\sqrt{3}}$\n",
    "\n",
    "<img src=\"../images/f_2.png\" width=\"18%\" align=\"left\">"
   ]
  },
  {
   "cell_type": "markdown",
   "metadata": {},
   "source": [
    "$U_{f_{2}}U_{FT}\\ket{1}\n",
    "= U_{f_{2}}\\ket{\\Psi_{1}} \n",
    "= \\frac{\\ket{f_{2}(0)}+e^{i\\frac{2\\pi}{3}}\\ket{f_{2}(1)}+e^{-i\\frac{2\\pi}{3}}\\ket{f_{2}(2)}}{\\sqrt{3}}\n",
    "= \\frac{\\ket{1}+e^{i\\frac{2\\pi}{3}}\\ket{2}+e^{-i\\frac{2\\pi}{3}}\\ket{0}}{\\sqrt{3}} \n",
    "= \\frac{e^{-i\\frac{2\\pi}{3}}\\ket{0}+\\ket{1}+e^{i\\frac{2\\pi}{3}}\\ket{2}}{\\sqrt{3}}$\n",
    "\n",
    "$= \\frac{1}{\\sqrt{3}}\\myvector{e^{-i\\frac{2\\pi}{3}} \\\\ 1 \\\\ e^{i\\frac{2\\pi}{3}}}\n",
    "=\\ket{\\Psi_{2}}=\\frac{e^{-i\\frac{2\\pi}{3}}}{\\sqrt{3}}\\myvector{1 \\\\ e^{i\\frac{2\\pi}{3}} \\\\ e^{-i\\frac{2\\pi}{3}} } \n",
    "=e^{-i\\frac{2\\pi}{3}}\\ket{\\Psi_{1}}$ "
   ]
  },
  {
   "cell_type": "markdown",
   "metadata": {},
   "source": [
    "or if you applied $U_{f_{5}}$ that is one of odd permutations to $\\ket{\\Psi_{1}}$: \n",
    "\n",
    "<img src=\"../images/f_5.png\" width=\"15%\" align=\"left\">\n"
   ]
  },
  {
   "cell_type": "markdown",
   "metadata": {},
   "source": [
    "$U_{f_{5}}U_{FT}\\ket{1}\n",
    "= U_{f_{5}}\\ket{\\Psi_{1}}\n",
    "= \\mymatrix{rrrrr}{0 & 1 & 0\\\\ \n",
    "                   1 & 0 & 0 \\\\\n",
    "                    0 & 0 & 1} \\frac{1}{\\sqrt{3}}\\myvector{1 \\\\ e^{i\\frac{2\\pi}{3}} \\\\ e^{-i\\frac{2\\pi}{3}}}\n",
    "=\\frac{1}{\\sqrt{3}}\\myvector{e^{i\\frac{2\\pi}{3}} \\\\ 1 \\\\ e^{-i\\frac{2\\pi}{3}}}\n",
    "=\\ket{\\Psi_{5}}\n",
    "=\\frac{e^{-i\\frac{2\\pi}{3}}}{\\sqrt{3}}\\myvector{1 \\\\e^{-i\\frac{2\\pi}{3}} \\\\ e^{i\\frac{2\\pi}{3}}}\n",
    "=e^{i\\frac{2\\pi}{3}}\\ket{\\Psi_{6}}$"
   ]
  },
  {
   "cell_type": "markdown",
   "metadata": {},
   "source": [
    "Let's move to \"the end\" point of our drama! We return from the superposed state to the basis state: \n",
    "\n",
    "$$\\sin{\\frac{2\\pi}{3}}=\\frac{\\sqrt{3}}{2} ~~~~~~ \\cos{\\frac{2\\pi}{3}}=-\\frac{1}{2} ~~~~~~\\sin{\\frac{4\\pi}{3}}=-\\frac{\\sqrt{3}}{2} ~~~~~~ \\cos{\\frac{4\\pi}{3}}=-\\frac{1}{2}$$\n",
    "\n",
    "$U_{FT}^\\dagger{U_f}_2 U_{FT}\\ket{1}=U_{FT}^\\dagger\\ket{\\Psi_{2}}=e^{-i\\frac{2\\pi}{3}}U_{FT}^\\dagger \\ket{\\Psi_{1}}$\n",
    "\n",
    "$=\n",
    "\\frac{e^{-i\\frac{2\\pi}{3}}}{\\sqrt{3}}\\mymatrix{rrr}{1 & 1 & 1\\\\ \n",
    "                   1 & e^{-i\\frac{2\\pi}{3}} & e^{i\\frac{2\\pi}{3}} \\\\ \n",
    "                   1 & e^{i\\frac{2\\pi}{3}} & e^{-i\\frac{2\\pi}{3}}} \\frac{1}{\\sqrt{3}}\\myvector{1 \\\\ e^{i\\frac{2\\pi}{3}} \\\\ e^{-i\\frac{2\\pi}{3}}}\n",
    "=\\frac{e^{-i\\frac{2\\pi}{3}}}{3}\\myvector{1 + e^{i\\frac{2\\pi}{3}} + e^{-i\\frac{2\\pi}{3}} \\\\ 1+ e^{-i\\frac{2\\pi}{3}}e^{i\\frac{2\\pi}{3}} + e^{i\\frac{2\\pi}{3}}e^{-i\\frac{2\\pi}{3}} \\\\ 1 + e^{i\\frac{2\\pi}{3}}e^{i\\frac{2\\pi}{3}} + e^{-i\\frac{2\\pi}{3}}e^{-i\\frac{2\\pi}{3}}}=\\frac{e^{-i\\frac{2\\pi}{3}}}{3}\\myvector{1 + (\\cos{\\frac{2\\pi}{3}} -i\\sin{\\frac{2\\pi}{3}}) + (\\cos{\\frac{2\\pi}{3}} + i\\sin{\\frac{2\\pi}{3}}) \\\\ 1 + 1 + 1 \\\\ 1 + (\\cos{\\frac{4\\pi}{3}} + i\\sin{\\frac{4\\pi}{3}}) +(\\cos{\\frac{4\\pi}{3}} -i\\sin{\\frac{4\\pi}{3}}) } $ \n",
    "\n",
    "\n",
    "$= \\frac{e^{-i\\frac{2\\pi}{3}}}{3}\\myvector{1 -\\frac{1}{2} + i\\frac{\\sqrt{3}}{2} -\\frac{1}{2} - i\\frac{\\sqrt{3}}{2}   \\\\ 3 \\\\ 1 -\\frac{1}{2} -i\\frac{\\sqrt{3}}{2} -\\frac{1}{2} +i\\frac{\\sqrt{3}}{2}}= \n",
    "                   \\frac{e^{-i\\frac{2\\pi}{3}}}{3}\\myvector{0 \\\\ 3 \\\\ 0} = e^{-i\\frac{2\\pi}{3}}\\myvector{0 \\\\ 1 \\\\ 0} = e^{-i\\frac{2\\pi}{3}}\\ket{1}$ $\\checkmark$ &nbsp; Yes, it already should be **even**."
   ]
  },
  {
   "cell_type": "markdown",
   "metadata": {},
   "source": [
    "If we had been applied the odd permutation $U_{f_{5}}$:\n",
    "\n",
    "$U_{FT}^\\dagger{U_f}_5 U_{FT}\\ket{1}=U_{FT}^\\dagger\\ket{\\Psi_{5}}=e^{-i\\frac{2\\pi }{3}}U_{FT}^\\dagger\\ket{\\Psi_{6}}$ \n",
    "\n",
    "$=\n",
    "\\frac{e^{-i\\frac{2\\pi }{3}}}{\\sqrt{3}}\\mymatrix{rrr}{1 & 1 & 1\\\\ \n",
    "                   1 & e^{-i\\frac{2\\pi }{3}} & e^{i\\frac{2\\pi }{3}} \\\\ \n",
    "                   1 & e^{i\\frac{2\\pi }{3}} & e^{-i\\frac{2\\pi }{3}}} \\frac{1}{\\sqrt{3}}\\myvector{1 \\\\ e^{-i\\frac{2\\pi}{3}} \\\\ e^{i\\frac{2\\pi}{3}}} =\n",
    "                   \\frac{e^{-i\\frac{2\\pi}{3}}}{3}\\myvector{1 + e^{-i\\frac{2\\pi}{3}} + e^{i\\frac{2\\pi}{3}} \\\\ 1 + e^{-i\\frac{2\\pi}{3}}e^{-i\\frac{2\\pi}{3}} + e^{i\\frac{2\\pi}{3}}e^{i\\frac{2\\pi}{3}} \\\\1+ e^{i\\frac{2\\pi}{3}}e^{-i\\frac{2\\pi}{3}} + e^{-i\\frac{2\\pi}{3}}e^{i\\frac{2\\pi}{3}} }=\\frac{e^{i\\frac{-2\\pi}{3}}}{3}\\myvector{1 + (\\cos{\\frac{2\\pi}{3}} -i\\sin{\\frac{2\\pi}{3}}) + (\\cos{\\frac{2\\pi}{3}} + i\\sin{\\frac{2\\pi}{3}}) \\\\ 1 + (\\cos{\\frac{4\\pi}{3}} -i\\sin{\\frac{4\\pi}{3}})+(\\cos{\\frac{4\\pi}{3}} + i\\sin{\\frac{4\\pi}{3}}) \\\\ 1 + 1 + 1 }$\n",
    "\n",
    "\n",
    "$= \\frac{e^{-i\\frac{2\\pi}{3}}}{3}\\myvector{1 -\\frac{1}{2} + i\\frac{\\sqrt{3}}{2} -\\frac{1}{2} - i\\frac{\\sqrt{3}}{2}   \\\\ 1 -\\frac{1}{2} +i\\frac{\\sqrt{3}}{2} -\\frac{1}{2} -i\\frac{\\sqrt{3}}{2} \\\\ 3}= \n",
    "                   \\frac{e^{-i\\frac{2\\pi}{3}}}{3}\\myvector{0 \\\\ 0 \\\\ 3} = e^{-i\\frac{2\\pi}{3}}\\myvector{0 \\\\ 0 \\\\ 1} = e^{-i\\frac{2\\pi}{3}}\\ket{2}$ $\\checkmark$ &nbsp; Yes, it already should be **odd**. "
   ]
  },
  {
   "cell_type": "markdown",
   "metadata": {},
   "source": [
    "<img src=\"../images/a_circuit_with_only_iuft.png\" width=\"50%\" align=\"middle\">\n"
   ]
  },
  {
   "cell_type": "markdown",
   "metadata": {},
   "source": [
    "Because of imaginary numbers, these phase factors will disappear when we measure them. Because $\\lVert e^{-i\\frac{2\\pi}{3}}\\rVert=e^{-i\\frac{2\\pi}{3}}e^{i\\frac{2\\pi}{3}}=1$ And with a **single** measuring(or query), we can solve the permutation problem. "
   ]
  },
  {
   "cell_type": "markdown",
   "metadata": {},
   "source": [
    "> In the end, if we have $\\ket{1}$ as output, we can say that the applied permutation is even$(k=1,2,3)$. If we have $\\ket{2}$ as output, we can say that the applied permutation is odd$(k=4,5,6)$. Of course, when the input is $\\ket{1}$."
   ]
  },
  {
   "cell_type": "markdown",
   "metadata": {},
   "source": [
    "<img src=\"../images/a_circuit_with_uft.png\" width=\"75%\" align=\"middle\">"
   ]
  },
  {
   "cell_type": "markdown",
   "metadata": {},
   "source": [
    "<h3>Task 1 (on paper)</h3>\n",
    "\n",
    "Please, apply the same gates, for $\\ket{2}$ and evaluate the outputs.\n",
    "\n",
    "<img src=\"../images/a_circuit_for_task_1.png\" width=\"50%\" align=\"middle\">"
   ]
  },
  {
   "cell_type": "markdown",
   "metadata": {},
   "source": [
    "<h3>Task 2 (on paper)</h3>\n",
    "\n",
    "Please, apply the any permutation gate without applying fourier transform for any input state and evaluate the outputs.\n",
    "Do you think that you can determine the parity with only one query. \n",
    "\n",
    "<img src=\"../images/a_circuit_without_uft.png\" width=\"40%\" align=\"middle\">\n",
    "\n",
    "<a href=\"E03_The_Algorithm_Solutions.ipynb#task2\">click for our solution</a>"
   ]
  },
  {
   "cell_type": "markdown",
   "metadata": {},
   "source": [
    "<h3>Task 3 (on paper)</h3>\n",
    "\n",
    "Please, as we do above, implement the algorithm for the input state $\\ket{1}$ and the permutation gate $U_{f_{2}}$ and evaluate the output: \n",
    "\n",
    "$U_{FT}^\\dagger{U_f}_1 U_{FT}\\ket{1}=?$\n",
    "\n",
    "                    \n",
    "<a href=\"E03_The_Algorithm_Solutions.ipynb#task3\">click for our solution</a>"
   ]
  },
  {
   "cell_type": "markdown",
   "metadata": {},
   "source": [
    "<h3>Task 4 (on paper)</h3>\n",
    "\n",
    "Please, as we do above, implement the algorithm for same input state $\\ket{1}$ and the permutation gate $U_{f_{4}}$ and evaluate the output: \n",
    "\n",
    "$U_{FT}^\\dagger{U_f}_4 U_{FT}\\ket{1}=?$\n",
    "\n",
    "                    \n",
    "<a href=\"E03_The_Algorithm_Solutions.ipynb#task4\">click for our solution</a>"
   ]
  },
  {
   "cell_type": "markdown",
   "metadata": {},
   "source": [
    "<h3>Task 5 (on paper)</h3>\n",
    "\n",
    "Please, apply the same gates, for $\\ket{0}$ and evaluate the outputs. Is it useful for this problem?\n",
    "\n",
    "<img src=\"../images/a_circuit_for_task_5.png\" width=\"50%\" align=\"middle\">\n",
    "                    \n",
    "<a href=\"E03_The_Algorithm_Solutions.ipynb#task5\">click for our solution</a>"
   ]
  },
  {
   "cell_type": "markdown",
   "metadata": {},
   "source": [
    "<font color=\"red\"> !not ready yet! </font> \n",
    "\n",
    "<h3>Task 6 (on paper)</h3>\n",
    "\n",
    "$$ U_{FT} = \\frac{1}{\\sqrt{3}}\\mymatrix{rrr}{e^{i\\frac{2\\pi}{3}} & 1 & e^{-i\\frac{2\\pi}{3}}\\\\ \n",
    "                   1 & 1 & 1 \\\\ \n",
    "                   e^{-i\\frac{2\\pi}{3}} & 1 & e^{i\\frac{2\\pi}{3}}}$$\n",
    "\n",
    "<a href=\"E03_The_Algorithm_Solutions.ipynb#task6\">click for our solution</a>"
   ]
  },
  {
   "cell_type": "markdown",
   "metadata": {},
   "source": [
    "<h3>Task 7 (on paper)</h3>\n",
    "\n",
    "for $\\ket{-2}=\\myvector{1\\\\0\\\\0}, U_{FT}=?$\n",
    "\n",
    "<a href=\"E03_The_Algorithm_Solutions.ipynb#task7\">click for our solution</a>\n",
    "\n",
    "<font color=\"red\"> !not ready yet! </font> "
   ]
  }
 ],
 "metadata": {
  "kernelspec": {
   "display_name": "Python 3",
   "language": "python",
   "name": "python3"
  },
  "language_info": {
   "codemirror_mode": {
    "name": "ipython",
    "version": 3
   },
   "file_extension": ".py",
   "mimetype": "text/x-python",
   "name": "python",
   "nbconvert_exporter": "python",
   "pygments_lexer": "ipython3",
   "version": "3.9.1"
  }
 },
 "nbformat": 4,
 "nbformat_minor": 4
}
