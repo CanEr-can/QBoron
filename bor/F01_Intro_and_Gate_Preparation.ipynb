{
 "cells": [
  {
   "cell_type": "markdown",
   "metadata": {},
   "source": [
    "<table  align=\"left\" width=\"100%\"> <tr>\n",
    "        <td  style=\"background-color:#ffffff;\"><a href=\"https://qsoftware.lu.lv/index.php/qworld/\" target=\"_blank\"><img src=\"..\\images\\qworld.jpg\" width=\"35%\" align=\"left\"></a></td>\n",
    "        <td  align=\"right\" style=\"background-color:#ffffff;vertical-align:bottom;horizontal-align:right\">\n",
    "            prepared by Caner ERCAN (<a href=\"http://qworld.lu.lv/index.php/qturkey/\" target=\"_blank\">QTurkey</a>)\n",
    "        </td>        \n",
    "</tr></table>"
   ]
  },
  {
   "cell_type": "markdown",
   "metadata": {},
   "source": [
    "<table width=\"100%\"><tr><td style=\"color:#bbbbbb;background-color:#ffffff;font-size:11px;font-style:italic;text-align:right;\">This cell contains some macros. If there is a problem with displaying mathematical formulas, please run this cell to load these macros. </td></tr></table>\n",
    "$ \\newcommand{\\bra}[1]{\\langle #1|} $\n",
    "$ \\newcommand{\\ket}[1]{|#1\\rangle} $\n",
    "$ \\newcommand{\\braket}[2]{\\langle #1|#2\\rangle} $\n",
    "$ \\newcommand{\\dot}[2]{ #1 \\cdot #2} $\n",
    "$ \\newcommand{\\biginner}[2]{\\left\\langle #1,#2\\right\\rangle} $\n",
    "$ \\newcommand{\\mymatrix}[2]{\\left( \\begin{array}{#1} #2\\end{array} \\right)} $\n",
    "$ \\newcommand{\\myvector}[1]{\\mymatrix{c}{#1}} $\n",
    "$ \\newcommand{\\myrvector}[1]{\\mymatrix{r}{#1}} $\n",
    "$ \\newcommand{\\mypar}[1]{\\left( #1 \\right)} $\n",
    "$ \\newcommand{\\mybigpar}[1]{ \\Big( #1 \\Big)} $\n",
    "$ \\newcommand{\\sqrttwo}{\\frac{1}{\\sqrt{2}}} $\n",
    "$ \\newcommand{\\dsqrttwo}{\\dfrac{1}{\\sqrt{2}}} $\n",
    "$ \\newcommand{\\onehalf}{\\frac{1}{2}} $\n",
    "$ \\newcommand{\\donehalf}{\\dfrac{1}{2}} $\n",
    "$ \\newcommand{\\hadamard}{ \\mymatrix{rr}{ \\sqrttwo & \\sqrttwo \\\\ \\sqrttwo & -\\sqrttwo }} $\n",
    "$ \\newcommand{\\vzero}{\\myvector{1\\\\0}} $\n",
    "$ \\newcommand{\\vone}{\\myvector{0\\\\1}} $\n",
    "$ \\newcommand{\\stateplus}{\\myvector{ \\sqrttwo \\\\  \\sqrttwo } } $\n",
    "$ \\newcommand{\\stateminus}{ \\myrvector{ \\sqrttwo \\\\ -\\sqrttwo } } $\n",
    "$ \\newcommand{\\myarray}[2]{ \\begin{array}{#1}#2\\end{array}} $\n",
    "$ \\newcommand{\\X}{ \\mymatrix{cc}{0 & 1 \\\\ 1 & 0}  } $\n",
    "$ \\newcommand{\\Z}{ \\mymatrix{rr}{1 & 0 \\\\ 0 & -1}  } $\n",
    "$ \\newcommand{\\Htwo}{ \\mymatrix{rrrr}{ \\frac{1}{2} & \\frac{1}{2} & \\frac{1}{2} & \\frac{1}{2} \\\\ \\frac{1}{2} & -\\frac{1}{2} & \\frac{1}{2} & -\\frac{1}{2} \\\\ \\frac{1}{2} & \\frac{1}{2} & -\\frac{1}{2} & -\\frac{1}{2} \\\\ \\frac{1}{2} & -\\frac{1}{2} & -\\frac{1}{2} & \\frac{1}{2} } } $\n",
    "$ \\newcommand{\\CNOT}{ \\mymatrix{cccc}{1 & 0 & 0 & 0 \\\\ 0 & 1 & 0 & 0 \\\\ 0 & 0 & 0 & 1 \\\\ 0 & 0 & 1 & 0} } $\n",
    "$ \\newcommand{\\norm}[1]{ \\left\\lVert #1 \\right\\rVert } $\n",
    "$ \\newcommand{\\pstate}[1]{ \\lceil \\mspace{-1mu} #1 \\mspace{-1.5mu} \\rfloor } $"
   ]
  },
  {
   "cell_type": "markdown",
   "metadata": {},
   "source": [
    "<h1> Introduction to Gate Preparation</h1>"
   ]
  },
  {
   "cell_type": "markdown",
   "metadata": {},
   "source": [
    "With this chapter, we move to code the things we have learnt about the algorithm. But, we have to adopt algortihm to implement on an available quantum programming package, like qiskit and an existing and an available quantıum computer, like IBM. \n",
    "\n",
    "The qutrit version of the algorithm cannot be implemented on a real hardware for the moment. The quantum processors of the companies on the area are made for 2-dimension, namely qubits. Therefore, we have no any choice but to implement Quantum Permutation Algorithm via qubits, until the qutrit age begins. "
   ]
  },
  {
   "cell_type": "markdown",
   "metadata": {},
   "source": [
    ">The algorithm can be generalized to d dimensional(or equivalently spin (d-1)/2) system.[xx]"
   ]
  },
  {
   "cell_type": "markdown",
   "metadata": {},
   "source": [
    "First, we start with two qubits to create cyclic permutations. This structure is equivalent to a ququart. \n",
    "\n",
    "At this moment, you may wonder the difference between two qubits and a ququart. Actually, there is no difference in representation. Both of them can be reprensented with 4-dimension vectors: \n",
    "\n",
    "$$\\ket{10}=\\ket{1} \\otimes  \\ket{0} = \\myvector{0 \\\\ 1} \\otimes \\myvector{1 \\\\ 0} = \\myvector{0 \\\\ 0 \\\\ 1 \\\\ 0} \\mbox{ , } \\ket{2}=\\myvector{0 \\\\ 0 \\\\ 1 \\\\ 0}$$"
   ]
  },
  {
   "cell_type": "markdown",
   "metadata": {},
   "source": [
    "The difference is only that while we can make two qubits are entangled with each other, but we can not create a entanglement using only one ququart. Already, there is not entanglement in QPA and we can express them as ququart. Because the ququarts can be realized  in real compesors, you will be able to use all of them in this chapter. "
   ]
  },
  {
   "cell_type": "markdown",
   "metadata": {},
   "source": [
    "For $d=4$ systems, the positive cyclic permutations of input series $(1, 2, 3, 4)$ are (2, 3, 4, 1), (3, 4, 1, 2) and (4, 1, 2, 3) while the negative cyclic permutations for the same input are (4,3,2,1), (3,2,1,4), (2,1,4,3) and (1,4,3,2). Therefore, we need 8 gates to apply these permutations in total and our aim is the same: determining the parity of the applied permutation gates. To do this task for $4$ dimensions, again, it requires to know at least two elements in the permutation **classically**. "
   ]
  },
  {
   "cell_type": "markdown",
   "metadata": {},
   "source": [
    "For applying these $8$ permutation for $4$ level quantum system, we need to realize the gates in the following: "
   ]
  },
  {
   "cell_type": "markdown",
   "metadata": {},
   "source": [
    "$$P^+_{0}=\\mymatrix{rrrr}{1 & 0 & 0 & 0\\\\ \n",
    "                   0 & 1 & 0 & 0 \\\\ \n",
    "                   0 & 0 & 1 & 0 \\\\\n",
    "                   0 & 0 & 0 & 1}\\mbox{ , } P^+_{1}=\\mymatrix{rrrr}{0 & 0 & 0 & 1\\\\ \n",
    "                   1 & 0 & 0 & 0 \\\\ \n",
    "                   0 & 1 & 0 & 0 \\\\\n",
    "                   0 & 0 & 1 & 0}\\mbox{ , }P^+_{2}=\\mymatrix{rrrr}{0 & 0 & 1 & 0\\\\ \n",
    "                   0 & 0 & 0 & 1 \\\\ \n",
    "                   1 & 0 & 0 & 0 \\\\\n",
    "                   0 & 1 & 0 & 0}\\mbox{ , } P^+_{3}=\\mymatrix{rrrr}{0 & 1 & 0 & 0\\\\ \n",
    "                   0 & 0 & 1 & 0 \\\\ \n",
    "                   0 & 0 & 0 & 1 \\\\\n",
    "                   1 & 0 & 0 & 0}$$\n",
    "                   \n",
    "$$P^-_{3}=\\mymatrix{rrrr}{0 & 0 & 0 & 1\\\\ \n",
    "                   0 & 0 & 1 & 0 \\\\ \n",
    "                   0 & 1 & 0 & 0 \\\\\n",
    "                   1 & 0 & 0 & 0}\\mbox{ , } P^-_{2}=\\mymatrix{rrrr}{0 & 0 & 1 & 0\\\\ \n",
    "                   0 & 1 & 0 & 0 \\\\ \n",
    "                   1 & 0 & 0 & 0 \\\\\n",
    "                   0 & 0 & 0 & 1}\\mbox{ , }P^-_{1}=\\mymatrix{rrrr}{0 & 1 & 0 & 0\\\\ \n",
    "                   1 & 0 & 0 & 0 \\\\ \n",
    "                   0 & 0 & 0 & 1 \\\\\n",
    "                   0 & 0 & 1 & 0}\\mbox{ , } P^-_{0}=\\mymatrix{rrrr}{1 & 0 & 0 & 0\\\\ \n",
    "                   0 & 0 & 0 & 1 \\\\ \n",
    "                   0 & 0 & 1 & 0 \\\\\n",
    "                   0 & 1 & 0 & 0}$$"
   ]
  },
  {
   "cell_type": "markdown",
   "metadata": {},
   "source": [
    "**Question:** How can we construct these permutation gates by using our basic quantum logic gates such as $X$, $H$ and $CNOT$? By applying these gates to right qubit and/or multiplying each other in the correct order. Let me show you that how it's done."
   ]
  },
  {
   "cell_type": "markdown",
   "metadata": {},
   "source": [
    "<h2> Gate Preparation </h2>"
   ]
  },
  {
   "cell_type": "markdown",
   "metadata": {},
   "source": [
    "(xx) We know the action of $CNOT$ gate: if the first (control) qubit is 1, then the second (target) qubit will be applied a $X$ gate. Well, if we want to apply the same for reverse order?  \n",
    "\n",
    "<img src=\"../images/cnots.png\" width=\"55%\" align=\"middle\">\n",
    "\n",
    "The first gate is the convention for CNOT, the second gate is the other:\n",
    "\n",
    "$$CNOT(1\\rightarrow2)=\\mymatrix{rrrr}{1 & 0 & 0 & 0\\\\ \n",
    "                   0 & 0 & 0 & 1 \\\\ \n",
    "                   0 & 0 & 1 & 0 \\\\\n",
    "                   0 & 1 & 0 & 0}  ~~~~~~ , ~~~~~~ CNOT(1\\leftarrow2)=\\mymatrix{rrrr}{1 & 0 & 0 & 0\\\\ \n",
    "                   0 & 0 & 0 & 1 \\\\ \n",
    "                   0 & 0 & 1 & 0 \\\\\n",
    "                   0 & 1 & 0 & 0}$$"
   ]
  },
  {
   "cell_type": "markdown",
   "metadata": {},
   "source": [
    "(??) And we can replace with each other by sandwiching with $H^{\\otimes2}$. \n",
    "\n",
    "<h3>Task 1 (on paper)</h3>\n",
    "\n",
    "Please, perform this fact to convince yourself.\n",
    "\n",
    "<a href=\"F01_Intro_and_Gate_Preparation_Solutions.ipynb#task1\">click for our solution</a>"
   ]
  },
  {
   "cell_type": "markdown",
   "metadata": {},
   "source": [
    "You can see that this version of $CNOT$ gate is actually the permutation gate $P_{0}^-$. For other permutation gates, you can get help from the following figure: \n",
    "\n",
    "<img src=\"../images/P's.png\" width=\"80%\" align=\"middle\">"
   ]
  },
  {
   "cell_type": "markdown",
   "metadata": {},
   "source": [
    "Let's produce another simple one, $P_{2}^+$. The qubit $q_{0}$ is applied a $X$ gate and the other qubit is not applied anything, or we can say that it is applied $I$ gate. To composite these qubits: \n",
    "\n",
    "$P_{2}^+=(X \\otimes I)= \\mymatrix{rr}{0 & 1 \\\\ 1 & 0} \\otimes \\mymatrix{rr}{1 & 0 \\\\ 0 & 1}=\\mymatrix{rrrr}{0 & 0 & 1 & 0\\\\ \n",
    "                   0 & 0 & 0 & 1 \\\\ \n",
    "                   1 & 0 & 0 & 0 \\\\\n",
    "                   0 & 1 & 0 & 0}$"
   ]
  },
  {
   "cell_type": "markdown",
   "metadata": {},
   "source": [
    "<h3>Task 2 (on paper)</h3>\n",
    "\n",
    "Please, produce matrix representations of the permutation $P_{1}^-, P_{3}^+$ and $P_{2}^-$ by using same methods. \n",
    "\n",
    "<a href=\"F01_Intro_and_Gate_Preparation_Solutions.ipynb#task2\">click for our solution</a>"
   ]
  },
  {
   "cell_type": "markdown",
   "metadata": {},
   "source": [
    "Let's produce this permutation gates by coding on qiskit. We should be careful while indicing and sorting gates. You can check the unitary matrix of the gates applied to realize the permutation gates $P_{2}^+$ and  $P_{0}^-$ in the following code. "
   ]
  },
  {
   "cell_type": "code",
   "execution_count": null,
   "metadata": {
    "scrolled": false
   },
   "outputs": [],
   "source": [
    "# import all objects and methods for quantum circuits\n",
    "from qiskit import *\n",
    "\n",
    "# define a quantum register with two qubit\n",
    "q = QuantumRegister(2,\"q\")\n",
    "# define a classical register with two bit\n",
    "c = ClassicalRegister(2,\"c\")\n",
    "# define a quantum circuit\n",
    "qc = QuantumCircuit(q,c)\n",
    "\n",
    "# apply necessary gates for the permutation gates we want to produce \n",
    "# To produce other gate, you can close and open by using the sign \"#\"\n",
    "\n",
    "#P2+\n",
    "#qc.x(q[1])\n",
    "\n",
    "#P0-\n",
    "qc.cx(q[0],q[1])\n",
    "\n",
    "# Unitary simulator\n",
    "usimulator = Aer.get_backend('unitary_simulator')\n",
    "job = execute(qc,usimulator,shots=1)\n",
    "\n",
    "matrix = job.result().get_unitary()\n",
    "\n",
    "print('Unitary matrix representation of the permutation gate we want to produce.')\n",
    "print(matrix) "
   ]
  },
  {
   "cell_type": "markdown",
   "metadata": {},
   "source": [
    "<h3>Task 3</h3>\n",
    "\n",
    "Please, produce the unitary matrix representations of the permutations $P_{1}^-, P_{3}^+$ and $P_{2}^-$ by using qiskit. \n",
    "\n",
    "<a href=\"F01_Intro_and_Gate_Preparation_Solutions.ipynb#task3\">click for our solution</a>"
   ]
  }
 ],
 "metadata": {
  "kernelspec": {
   "display_name": "Python 3",
   "language": "python",
   "name": "python3"
  },
  "language_info": {
   "codemirror_mode": {
    "name": "ipython",
    "version": 3
   },
   "file_extension": ".py",
   "mimetype": "text/x-python",
   "name": "python",
   "nbconvert_exporter": "python",
   "pygments_lexer": "ipython3",
   "version": "3.8.8"
  }
 },
 "nbformat": 4,
 "nbformat_minor": 2
}
